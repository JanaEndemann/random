{
 "cells": [
  {
   "cell_type": "markdown",
   "metadata": {},
   "source": [
    "### Day 1: 1"
   ]
  },
  {
   "cell_type": "code",
   "execution_count": 1,
   "metadata": {},
   "outputs": [],
   "source": [
    "freqs = [int(i) for i in open('aoc_1.csv')]"
   ]
  },
  {
   "cell_type": "code",
   "execution_count": 2,
   "metadata": {},
   "outputs": [
    {
     "data": {
      "text/plain": [
       "553"
      ]
     },
     "execution_count": 2,
     "metadata": {},
     "output_type": "execute_result"
    }
   ],
   "source": [
    "sum(freqs)"
   ]
  },
  {
   "cell_type": "markdown",
   "metadata": {},
   "source": [
    "### part 2"
   ]
  },
  {
   "cell_type": "code",
   "execution_count": 46,
   "metadata": {},
   "outputs": [
    {
     "name": "stdout",
     "output_type": "stream",
     "text": [
      "78724\n"
     ]
    }
   ],
   "source": [
    "from itertools import cycle\n",
    "\n",
    "l = []\n",
    "f = 0\n",
    "maxcount = len(freqs)*500\n",
    "count =0\n",
    "for j in cycle(freqs):\n",
    "    f += j\n",
    "    if f in l:\n",
    "        print(f)\n",
    "        break\n",
    "    l.append(f)\n",
    "    count += 1\n",
    "    if count >= maxcount:\n",
    "        print('not found')\n",
    "        break\n"
   ]
  },
  {
   "cell_type": "markdown",
   "metadata": {},
   "source": [
    "### Day 2: 3"
   ]
  },
  {
   "cell_type": "code",
   "execution_count": 84,
   "metadata": {},
   "outputs": [],
   "source": [
    "box_ids = [i[:-1] for i in open('aoc_2.csv')]"
   ]
  },
  {
   "cell_type": "code",
   "execution_count": 94,
   "metadata": {},
   "outputs": [
    {
     "name": "stdout",
     "output_type": "stream",
     "text": [
      "7410\n"
     ]
    }
   ],
   "source": [
    "double_letters = 0\n",
    "triple_letters = 0\n",
    "for box_id in box_ids:\n",
    "    Two_true = False\n",
    "    Three_true = False\n",
    "    for l in set(box_id):\n",
    "        if box_id.count(l) == 2:\n",
    "            Two_true= True\n",
    "        if box_id.count(l) == 3:\n",
    "            Three_true = True\n",
    "    if Two_true:\n",
    "        double_letters += 1\n",
    "    if Three_true:\n",
    "        triple_letters += 1\n",
    "print(double_letters*triple_letters)"
   ]
  },
  {
   "cell_type": "markdown",
   "metadata": {},
   "source": [
    "### part 4 "
   ]
  },
  {
   "cell_type": "code",
   "execution_count": 93,
   "metadata": {},
   "outputs": [
    {
     "name": "stdout",
     "output_type": "stream",
     "text": [
      "cnjxoritzhvbosyewrmqhgkul\n"
     ]
    }
   ],
   "source": [
    "for id_1 in box_ids:\n",
    "    for id_2 in box_ids:\n",
    "        if id_1 == id_2:\n",
    "            continue\n",
    "        diff_count = 0\n",
    "        same_letters = ''\n",
    "        for i in range(len(id_1)):\n",
    "            if id_1[i] != id_2[i]:\n",
    "                diff_count += 1\n",
    "            else:\n",
    "                same_letters += id_1[i]\n",
    "        if diff_count == 1:\n",
    "            print(same_letters)\n",
    "            break\n",
    "    if diff_count == 1:\n",
    "        break"
   ]
  },
  {
   "cell_type": "markdown",
   "metadata": {},
   "source": [
    "### Day 3: part 5"
   ]
  },
  {
   "cell_type": "code",
   "execution_count": 109,
   "metadata": {},
   "outputs": [],
   "source": [
    "fabric_ids = [i[:-1] for i in open('aoc_3.csv') if len(i) > 4]"
   ]
  },
  {
   "cell_type": "code",
   "execution_count": 190,
   "metadata": {},
   "outputs": [
    {
     "data": {
      "text/plain": [
       "'#1301 @ 130,498: 26x10'"
      ]
     },
     "execution_count": 190,
     "metadata": {},
     "output_type": "execute_result"
    }
   ],
   "source": [
    "fabric_ids[-1]"
   ]
  },
  {
   "cell_type": "code",
   "execution_count": 247,
   "metadata": {},
   "outputs": [],
   "source": [
    "heights = [int(s.split('x')[1]) for s in fabric_ids]\n",
    "\n",
    "widths = [int(s.split('x')[0].split(': ')[1]) for s in fabric_ids]\n",
    "\n",
    "from_top = [int(s.split('x')[0].split(': ')[0].split(',')[1]) for s in fabric_ids]\n",
    "\n",
    "from_left = [int(s.split('x')[0].split(': ')[0].split(',')[0].split('@ ')[1]) for s in fabric_ids]\n",
    "\n",
    "ids = [int(s.split('x')[0].split(': ')[0].split(',')[0].split(' @ ')[0][1:]) for s in fabric_ids]"
   ]
  },
  {
   "cell_type": "code",
   "execution_count": 128,
   "metadata": {},
   "outputs": [],
   "source": [
    "def overlap_corner(x,y,l,t,w,h):\n",
    "    if (x >= l) and (x < l + w) and (y >= t) and (y < t + h):\n",
    "        return True\n",
    "    else:\n",
    "        return False"
   ]
  },
  {
   "cell_type": "code",
   "execution_count": 240,
   "metadata": {},
   "outputs": [
    {
     "data": {
      "text/plain": [
       "104712"
      ]
     },
     "execution_count": 240,
     "metadata": {},
     "output_type": "execute_result"
    }
   ],
   "source": [
    "square_count = 0\n",
    "for x in range(1000):\n",
    "    for y in range(1000):\n",
    "        claim_count = 0\n",
    "        for i in range(len(heights)):\n",
    "            if overlap_corner(x,y, from_left[i],from_top[i],widths[i], heights[i]):\n",
    "                claim_count += 1\n",
    "        if claim_count > 1:\n",
    "            square_count += 1\n",
    "square_count"
   ]
  },
  {
   "cell_type": "markdown",
   "metadata": {},
   "source": [
    "### part 6"
   ]
  },
  {
   "cell_type": "code",
   "execution_count": 241,
   "metadata": {},
   "outputs": [],
   "source": [
    "def overlap_squares(L,T,W,H,l,t,w,h):\n",
    "    if (l<L+W) and (L<l+w) and (T<t+h) and (t<T+H):\n",
    "        return True\n",
    "    else:\n",
    "        return False"
   ]
  },
  {
   "cell_type": "code",
   "execution_count": 250,
   "metadata": {},
   "outputs": [
    {
     "name": "stdout",
     "output_type": "stream",
     "text": [
      "840\n"
     ]
    }
   ],
   "source": [
    "for i in range(len(ids)):\n",
    "    for o in range(len(ids)):\n",
    "        if i ==o:\n",
    "            continue\n",
    "        elif overlap_squares(from_left[i],from_top[i],widths[i],heights[i],from_left[o],from_top[o],widths[o],heights[o]):\n",
    "            break\n",
    "    else:\n",
    "        print(ids[i])"
   ]
  },
  {
   "cell_type": "code",
   "execution_count": 243,
   "metadata": {},
   "outputs": [],
   "source": [
    "test = ['#1 @ 1,3: 4x4',\n",
    "'#2 @ 3,1: 4x4',\n",
    "'#3 @ 5,5: 2x2']\n",
    "\n",
    "heights = [int(s.split('x')[1]) for s in test]\n",
    "\n",
    "widths = [int(s.split('x')[0].split(': ')[1]) for s in test]\n",
    "\n",
    "from_top = [int(s.split('x')[0].split(': ')[0].split(',')[1]) for s in test]\n",
    "\n",
    "from_left = [int(s.split('x')[0].split(': ')[0].split(',')[0].split('@ ')[1]) for s in test]\n",
    "\n",
    "ids = [int(s.split('x')[0].split(': ')[0].split(',')[0].split(' @ ')[0][1:]) for s in test]"
   ]
  },
  {
   "cell_type": "markdown",
   "metadata": {},
   "source": [
    "### day 4: part 7"
   ]
  },
  {
   "cell_type": "code",
   "execution_count": 1,
   "metadata": {},
   "outputs": [],
   "source": [
    "import pandas as pd\n",
    "from datetime import datetime, timedelta"
   ]
  },
  {
   "cell_type": "code",
   "execution_count": 2,
   "metadata": {},
   "outputs": [],
   "source": [
    "dt = [i[1:17] for i in open('aoc_4.csv')]\n",
    "dt = [datetime.strptime(d,'%Y-%m-%d %H:%M') for d in dt]"
   ]
  },
  {
   "cell_type": "code",
   "execution_count": 3,
   "metadata": {},
   "outputs": [],
   "source": [
    "vals = [i[19:-1] for i in open('aoc_4.csv')]"
   ]
  },
  {
   "cell_type": "code",
   "execution_count": 4,
   "metadata": {},
   "outputs": [],
   "source": [
    "df_guard_schedule = pd.DataFrame(index=dt, data=vals, columns=['text'])"
   ]
  },
  {
   "cell_type": "code",
   "execution_count": 5,
   "metadata": {},
   "outputs": [],
   "source": [
    "df_guard_schedule.sort_index(inplace = True)"
   ]
  },
  {
   "cell_type": "code",
   "execution_count": 6,
   "metadata": {},
   "outputs": [
    {
     "data": {
      "text/html": [
       "<div>\n",
       "<style scoped>\n",
       "    .dataframe tbody tr th:only-of-type {\n",
       "        vertical-align: middle;\n",
       "    }\n",
       "\n",
       "    .dataframe tbody tr th {\n",
       "        vertical-align: top;\n",
       "    }\n",
       "\n",
       "    .dataframe thead th {\n",
       "        text-align: right;\n",
       "    }\n",
       "</style>\n",
       "<table border=\"1\" class=\"dataframe\">\n",
       "  <thead>\n",
       "    <tr style=\"text-align: right;\">\n",
       "      <th></th>\n",
       "      <th>text</th>\n",
       "    </tr>\n",
       "  </thead>\n",
       "  <tbody>\n",
       "    <tr>\n",
       "      <th>1518-03-15 00:01:00</th>\n",
       "      <td>Guard #709 begins shift</td>\n",
       "    </tr>\n",
       "    <tr>\n",
       "      <th>1518-03-15 00:12:00</th>\n",
       "      <td>falls asleep</td>\n",
       "    </tr>\n",
       "    <tr>\n",
       "      <th>1518-03-15 00:53:00</th>\n",
       "      <td>wakes up</td>\n",
       "    </tr>\n",
       "    <tr>\n",
       "      <th>1518-03-15 23:53:00</th>\n",
       "      <td>Guard #919 begins shift</td>\n",
       "    </tr>\n",
       "    <tr>\n",
       "      <th>1518-03-16 00:01:00</th>\n",
       "      <td>falls asleep</td>\n",
       "    </tr>\n",
       "  </tbody>\n",
       "</table>\n",
       "</div>"
      ],
      "text/plain": [
       "                                        text\n",
       "1518-03-15 00:01:00  Guard #709 begins shift\n",
       "1518-03-15 00:12:00             falls asleep\n",
       "1518-03-15 00:53:00                 wakes up\n",
       "1518-03-15 23:53:00  Guard #919 begins shift\n",
       "1518-03-16 00:01:00             falls asleep"
      ]
     },
     "execution_count": 6,
     "metadata": {},
     "output_type": "execute_result"
    }
   ],
   "source": [
    "df_guard_schedule.head()"
   ]
  },
  {
   "cell_type": "code",
   "execution_count": 7,
   "metadata": {},
   "outputs": [],
   "source": [
    "for i in df_guard_schedule.index:\n",
    "    if i.hour == 0:\n",
    "        df_guard_schedule.loc[i,'minute'] = i.minute\n",
    "        df_guard_schedule.loc[i,'month'] = i.month\n",
    "        df_guard_schedule.loc[i,'day'] = i.day\n",
    "    else:\n",
    "        df_guard_schedule.loc[i,'minute'] = 0\n",
    "        df_guard_schedule.loc[i,'month'] = (i+timedelta(hours = 1)).month\n",
    "        df_guard_schedule.loc[i,'day'] = (i+timedelta(hours = 1)).day\n",
    "    if df_guard_schedule.loc[i,'text'].startswith('Guard'):\n",
    "        df_guard_schedule.loc[i,'asleep'] = 0\n",
    "        df_guard_schedule.loc[i,'guard'] = df_guard_schedule.loc[i,'text'].split(' ')[1][1:]\n",
    "    elif df_guard_schedule.loc[i,'text'] == 'falls asleep':\n",
    "        df_guard_schedule.loc[i,'asleep'] = 1\n",
    "    else:\n",
    "        df_guard_schedule.loc[i,'asleep'] = 0"
   ]
  },
  {
   "cell_type": "code",
   "execution_count": 8,
   "metadata": {},
   "outputs": [],
   "source": [
    "df_times = pd.DataFrame()\n",
    "d = df_guard_schedule.index.min().replace(hour =0, minute = 0)\n",
    "while d <= df_guard_schedule.index.max().replace(hour =0, minute = 0):\n",
    "    if d.hour == 0:\n",
    "        df_times.loc[d, 'minute'] = d.minute\n",
    "        df_times.loc[d, 'month'] = d.month\n",
    "        df_times.loc[d, 'day'] = d.day\n",
    "        d += timedelta(minutes = 1)\n",
    "    else:\n",
    "        d += timedelta(hours = 23)"
   ]
  },
  {
   "cell_type": "code",
   "execution_count": 18,
   "metadata": {},
   "outputs": [],
   "source": [
    "df_full_guard_schedule = df_times.merge(df_guard_schedule,left_on = ['month','day', 'minute'],right_on = ['month','day', 'minute'], how = 'left')"
   ]
  },
  {
   "cell_type": "code",
   "execution_count": 22,
   "metadata": {},
   "outputs": [],
   "source": [
    "df_full_guard_schedule.fillna(method='ffill', inplace = True)"
   ]
  },
  {
   "cell_type": "code",
   "execution_count": 24,
   "metadata": {},
   "outputs": [
    {
     "data": {
      "text/html": [
       "<div>\n",
       "<style scoped>\n",
       "    .dataframe tbody tr th:only-of-type {\n",
       "        vertical-align: middle;\n",
       "    }\n",
       "\n",
       "    .dataframe tbody tr th {\n",
       "        vertical-align: top;\n",
       "    }\n",
       "\n",
       "    .dataframe thead th {\n",
       "        text-align: right;\n",
       "    }\n",
       "</style>\n",
       "<table border=\"1\" class=\"dataframe\">\n",
       "  <thead>\n",
       "    <tr style=\"text-align: right;\">\n",
       "      <th></th>\n",
       "      <th>minute</th>\n",
       "      <th>month</th>\n",
       "      <th>day</th>\n",
       "      <th>text</th>\n",
       "      <th>asleep</th>\n",
       "      <th>guard</th>\n",
       "    </tr>\n",
       "  </thead>\n",
       "  <tbody>\n",
       "    <tr>\n",
       "      <th>0</th>\n",
       "      <td>0.0</td>\n",
       "      <td>3.0</td>\n",
       "      <td>15.0</td>\n",
       "      <td>NaN</td>\n",
       "      <td>NaN</td>\n",
       "      <td>NaN</td>\n",
       "    </tr>\n",
       "    <tr>\n",
       "      <th>1</th>\n",
       "      <td>1.0</td>\n",
       "      <td>3.0</td>\n",
       "      <td>15.0</td>\n",
       "      <td>Guard #709 begins shift</td>\n",
       "      <td>0.0</td>\n",
       "      <td>709</td>\n",
       "    </tr>\n",
       "    <tr>\n",
       "      <th>2</th>\n",
       "      <td>2.0</td>\n",
       "      <td>3.0</td>\n",
       "      <td>15.0</td>\n",
       "      <td>Guard #709 begins shift</td>\n",
       "      <td>0.0</td>\n",
       "      <td>709</td>\n",
       "    </tr>\n",
       "    <tr>\n",
       "      <th>3</th>\n",
       "      <td>3.0</td>\n",
       "      <td>3.0</td>\n",
       "      <td>15.0</td>\n",
       "      <td>Guard #709 begins shift</td>\n",
       "      <td>0.0</td>\n",
       "      <td>709</td>\n",
       "    </tr>\n",
       "    <tr>\n",
       "      <th>4</th>\n",
       "      <td>4.0</td>\n",
       "      <td>3.0</td>\n",
       "      <td>15.0</td>\n",
       "      <td>Guard #709 begins shift</td>\n",
       "      <td>0.0</td>\n",
       "      <td>709</td>\n",
       "    </tr>\n",
       "  </tbody>\n",
       "</table>\n",
       "</div>"
      ],
      "text/plain": [
       "   minute  month   day                     text  asleep guard\n",
       "0     0.0    3.0  15.0                      NaN     NaN   NaN\n",
       "1     1.0    3.0  15.0  Guard #709 begins shift     0.0   709\n",
       "2     2.0    3.0  15.0  Guard #709 begins shift     0.0   709\n",
       "3     3.0    3.0  15.0  Guard #709 begins shift     0.0   709\n",
       "4     4.0    3.0  15.0  Guard #709 begins shift     0.0   709"
      ]
     },
     "execution_count": 24,
     "metadata": {},
     "output_type": "execute_result"
    }
   ],
   "source": [
    "df_full_guard_schedule.head()"
   ]
  },
  {
   "cell_type": "code",
   "execution_count": 32,
   "metadata": {},
   "outputs": [
    {
     "data": {
      "text/plain": [
       "'2663'"
      ]
     },
     "execution_count": 32,
     "metadata": {},
     "output_type": "execute_result"
    }
   ],
   "source": [
    "most_sleepy_guard = df_full_guard_schedule.groupby(['guard']).asleep.sum().sort_values(ascending = False).index[0]\n",
    "most_sleepy_guard"
   ]
  },
  {
   "cell_type": "code",
   "execution_count": 33,
   "metadata": {},
   "outputs": [],
   "source": [
    "schedule_sleepy_guard = df_full_guard_schedule[df_full_guard_schedule['guard'] == most_sleepy_guard]"
   ]
  },
  {
   "cell_type": "code",
   "execution_count": 38,
   "metadata": {},
   "outputs": [
    {
     "data": {
      "text/plain": [
       "38.0"
      ]
     },
     "execution_count": 38,
     "metadata": {},
     "output_type": "execute_result"
    }
   ],
   "source": [
    "sleepy_minute = schedule_sleepy_guard.groupby(['minute']).asleep.sum().sort_values(ascending = False).index[0]\n",
    "sleepy_minute"
   ]
  },
  {
   "cell_type": "code",
   "execution_count": 39,
   "metadata": {},
   "outputs": [
    {
     "data": {
      "text/plain": [
       "101194.0"
      ]
     },
     "execution_count": 39,
     "metadata": {},
     "output_type": "execute_result"
    }
   ],
   "source": [
    "int(most_sleepy_guard) * sleepy_minute"
   ]
  },
  {
   "cell_type": "markdown",
   "metadata": {},
   "source": [
    "### Part 8"
   ]
  },
  {
   "cell_type": "code",
   "execution_count": 43,
   "metadata": {},
   "outputs": [],
   "source": [
    "guard, minute = df_full_guard_schedule.groupby(['guard','minute']).asleep.sum().sort_values(ascending = False).index[0]"
   ]
  },
  {
   "cell_type": "code",
   "execution_count": 44,
   "metadata": {},
   "outputs": [
    {
     "data": {
      "text/plain": [
       "102095.0"
      ]
     },
     "execution_count": 44,
     "metadata": {},
     "output_type": "execute_result"
    }
   ],
   "source": [
    "int(guard) *minute"
   ]
  },
  {
   "cell_type": "markdown",
   "metadata": {},
   "source": [
    "### Day 5: part 9"
   ]
  },
  {
   "cell_type": "code",
   "execution_count": 72,
   "metadata": {},
   "outputs": [],
   "source": [
    "polymer = next(open('aoc_5.csv'))"
   ]
  },
  {
   "cell_type": "code",
   "execution_count": 73,
   "metadata": {},
   "outputs": [
    {
     "data": {
      "text/plain": [
       "'ikeEKbBtoO'"
      ]
     },
     "execution_count": 73,
     "metadata": {},
     "output_type": "execute_result"
    }
   ],
   "source": [
    "polymer[:10]"
   ]
  },
  {
   "cell_type": "code",
   "execution_count": 74,
   "metadata": {},
   "outputs": [
    {
     "data": {
      "text/plain": [
       "50000"
      ]
     },
     "execution_count": 74,
     "metadata": {},
     "output_type": "execute_result"
    }
   ],
   "source": [
    "len(polymer)"
   ]
  },
  {
   "cell_type": "code",
   "execution_count": 69,
   "metadata": {},
   "outputs": [],
   "source": [
    "def reduce_polymer(polymer):\n",
    "    i = 0\n",
    "    while i < len(polymer) -1:\n",
    "        if (polymer[i] != polymer[i+1]) and (polymer[i].lower() == polymer[i+1].lower()):\n",
    "            polymer = polymer.replace(polymer[i] + polymer[i+1], \"\")\n",
    "            i = 0\n",
    "        else:\n",
    "            i += 1\n",
    "    return polymer"
   ]
  },
  {
   "cell_type": "code",
   "execution_count": 70,
   "metadata": {},
   "outputs": [],
   "source": [
    "basic_reduces = reduce_polymer(polymer)"
   ]
  },
  {
   "cell_type": "code",
   "execution_count": 71,
   "metadata": {},
   "outputs": [
    {
     "data": {
      "text/plain": [
       "10638"
      ]
     },
     "execution_count": 71,
     "metadata": {},
     "output_type": "execute_result"
    }
   ],
   "source": [
    "len(basic_reduces)"
   ]
  },
  {
   "cell_type": "markdown",
   "metadata": {},
   "source": [
    "### part 10"
   ]
  },
  {
   "cell_type": "code",
   "execution_count": 77,
   "metadata": {},
   "outputs": [],
   "source": [
    "unique_letters = ''.join(set(polymer.lower()))"
   ]
  },
  {
   "cell_type": "code",
   "execution_count": 78,
   "metadata": {},
   "outputs": [],
   "source": [
    "df_letter_count = pd.DataFrame()\n",
    "for l in unique_letters:\n",
    "    alt_pol = polymer.replace(l,\"\")\n",
    "    alt_pol = alt_pol.replace(l.upper(),\"\")\n",
    "    df_letter_count.loc[l, \"count\"] = len(reduce_polymer(alt_pol))"
   ]
  },
  {
   "cell_type": "code",
   "execution_count": 81,
   "metadata": {},
   "outputs": [
    {
     "data": {
      "text/html": [
       "<div>\n",
       "<style scoped>\n",
       "    .dataframe tbody tr th:only-of-type {\n",
       "        vertical-align: middle;\n",
       "    }\n",
       "\n",
       "    .dataframe tbody tr th {\n",
       "        vertical-align: top;\n",
       "    }\n",
       "\n",
       "    .dataframe thead th {\n",
       "        text-align: right;\n",
       "    }\n",
       "</style>\n",
       "<table border=\"1\" class=\"dataframe\">\n",
       "  <thead>\n",
       "    <tr style=\"text-align: right;\">\n",
       "      <th></th>\n",
       "      <th>count</th>\n",
       "    </tr>\n",
       "  </thead>\n",
       "  <tbody>\n",
       "    <tr>\n",
       "      <th>v</th>\n",
       "      <td>4944.0</td>\n",
       "    </tr>\n",
       "    <tr>\n",
       "      <th>l</th>\n",
       "      <td>10158.0</td>\n",
       "    </tr>\n",
       "    <tr>\n",
       "      <th>j</th>\n",
       "      <td>10168.0</td>\n",
       "    </tr>\n",
       "    <tr>\n",
       "      <th>d</th>\n",
       "      <td>10186.0</td>\n",
       "    </tr>\n",
       "    <tr>\n",
       "      <th>a</th>\n",
       "      <td>10186.0</td>\n",
       "    </tr>\n",
       "    <tr>\n",
       "      <th>q</th>\n",
       "      <td>10190.0</td>\n",
       "    </tr>\n",
       "    <tr>\n",
       "      <th>o</th>\n",
       "      <td>10190.0</td>\n",
       "    </tr>\n",
       "    <tr>\n",
       "      <th>h</th>\n",
       "      <td>10196.0</td>\n",
       "    </tr>\n",
       "    <tr>\n",
       "      <th>k</th>\n",
       "      <td>10196.0</td>\n",
       "    </tr>\n",
       "    <tr>\n",
       "      <th>p</th>\n",
       "      <td>10200.0</td>\n",
       "    </tr>\n",
       "    <tr>\n",
       "      <th>f</th>\n",
       "      <td>10208.0</td>\n",
       "    </tr>\n",
       "    <tr>\n",
       "      <th>b</th>\n",
       "      <td>10210.0</td>\n",
       "    </tr>\n",
       "    <tr>\n",
       "      <th>g</th>\n",
       "      <td>10216.0</td>\n",
       "    </tr>\n",
       "    <tr>\n",
       "      <th>c</th>\n",
       "      <td>10216.0</td>\n",
       "    </tr>\n",
       "    <tr>\n",
       "      <th>w</th>\n",
       "      <td>10220.0</td>\n",
       "    </tr>\n",
       "    <tr>\n",
       "      <th>z</th>\n",
       "      <td>10222.0</td>\n",
       "    </tr>\n",
       "    <tr>\n",
       "      <th>u</th>\n",
       "      <td>10222.0</td>\n",
       "    </tr>\n",
       "    <tr>\n",
       "      <th>r</th>\n",
       "      <td>10224.0</td>\n",
       "    </tr>\n",
       "    <tr>\n",
       "      <th>n</th>\n",
       "      <td>10226.0</td>\n",
       "    </tr>\n",
       "    <tr>\n",
       "      <th>y</th>\n",
       "      <td>10230.0</td>\n",
       "    </tr>\n",
       "    <tr>\n",
       "      <th>m</th>\n",
       "      <td>10230.0</td>\n",
       "    </tr>\n",
       "    <tr>\n",
       "      <th>s</th>\n",
       "      <td>10232.0</td>\n",
       "    </tr>\n",
       "    <tr>\n",
       "      <th>t</th>\n",
       "      <td>10244.0</td>\n",
       "    </tr>\n",
       "    <tr>\n",
       "      <th>x</th>\n",
       "      <td>10246.0</td>\n",
       "    </tr>\n",
       "    <tr>\n",
       "      <th>e</th>\n",
       "      <td>10254.0</td>\n",
       "    </tr>\n",
       "    <tr>\n",
       "      <th>i</th>\n",
       "      <td>10262.0</td>\n",
       "    </tr>\n",
       "  </tbody>\n",
       "</table>\n",
       "</div>"
      ],
      "text/plain": [
       "     count\n",
       "v   4944.0\n",
       "l  10158.0\n",
       "j  10168.0\n",
       "d  10186.0\n",
       "a  10186.0\n",
       "q  10190.0\n",
       "o  10190.0\n",
       "h  10196.0\n",
       "k  10196.0\n",
       "p  10200.0\n",
       "f  10208.0\n",
       "b  10210.0\n",
       "g  10216.0\n",
       "c  10216.0\n",
       "w  10220.0\n",
       "z  10222.0\n",
       "u  10222.0\n",
       "r  10224.0\n",
       "n  10226.0\n",
       "y  10230.0\n",
       "m  10230.0\n",
       "s  10232.0\n",
       "t  10244.0\n",
       "x  10246.0\n",
       "e  10254.0\n",
       "i  10262.0"
      ]
     },
     "execution_count": 81,
     "metadata": {},
     "output_type": "execute_result"
    }
   ],
   "source": [
    "df_letter_count.sort_values(by = 'count')"
   ]
  },
  {
   "cell_type": "code",
   "execution_count": null,
   "metadata": {},
   "outputs": [],
   "source": []
  }
 ],
 "metadata": {
  "kernelspec": {
   "display_name": "Python 3",
   "language": "python",
   "name": "python3"
  },
  "language_info": {
   "codemirror_mode": {
    "name": "ipython",
    "version": 3
   },
   "file_extension": ".py",
   "mimetype": "text/x-python",
   "name": "python",
   "nbconvert_exporter": "python",
   "pygments_lexer": "ipython3",
   "version": "3.7.0"
  }
 },
 "nbformat": 4,
 "nbformat_minor": 2
}
