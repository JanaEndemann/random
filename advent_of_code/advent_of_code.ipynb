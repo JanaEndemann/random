{
 "cells": [
  {
   "cell_type": "markdown",
   "metadata": {},
   "source": [
    "### Day 1: 1"
   ]
  },
  {
   "cell_type": "code",
   "execution_count": 1,
   "metadata": {},
   "outputs": [],
   "source": [
    "freqs = [int(i) for i in open('aoc_1.csv')]"
   ]
  },
  {
   "cell_type": "code",
   "execution_count": 2,
   "metadata": {},
   "outputs": [
    {
     "data": {
      "text/plain": [
       "553"
      ]
     },
     "execution_count": 2,
     "metadata": {},
     "output_type": "execute_result"
    }
   ],
   "source": [
    "sum(freqs)"
   ]
  },
  {
   "cell_type": "markdown",
   "metadata": {},
   "source": [
    "### part 2"
   ]
  },
  {
   "cell_type": "code",
   "execution_count": 46,
   "metadata": {},
   "outputs": [
    {
     "name": "stdout",
     "output_type": "stream",
     "text": [
      "78724\n"
     ]
    }
   ],
   "source": [
    "from itertools import cycle\n",
    "\n",
    "l = []\n",
    "f = 0\n",
    "maxcount = len(freqs)*500\n",
    "count =0\n",
    "for j in cycle(freqs):\n",
    "    f += j\n",
    "    if f in l:\n",
    "        print(f)\n",
    "        break\n",
    "    l.append(f)\n",
    "    count += 1\n",
    "    if count >= maxcount:\n",
    "        print('not found')\n",
    "        break\n"
   ]
  },
  {
   "cell_type": "markdown",
   "metadata": {},
   "source": [
    "### Day 2: 3"
   ]
  },
  {
   "cell_type": "code",
   "execution_count": 84,
   "metadata": {},
   "outputs": [],
   "source": [
    "box_ids = [i[:-1] for i in open('aoc_2.csv')]"
   ]
  },
  {
   "cell_type": "code",
   "execution_count": 94,
   "metadata": {},
   "outputs": [
    {
     "name": "stdout",
     "output_type": "stream",
     "text": [
      "7410\n"
     ]
    }
   ],
   "source": [
    "double_letters = 0\n",
    "triple_letters = 0\n",
    "for box_id in box_ids:\n",
    "    Two_true = False\n",
    "    Three_true = False\n",
    "    for l in set(box_id):\n",
    "        if box_id.count(l) == 2:\n",
    "            Two_true= True\n",
    "        if box_id.count(l) == 3:\n",
    "            Three_true = True\n",
    "    if Two_true:\n",
    "        double_letters += 1\n",
    "    if Three_true:\n",
    "        triple_letters += 1\n",
    "print(double_letters*triple_letters)"
   ]
  },
  {
   "cell_type": "markdown",
   "metadata": {},
   "source": [
    "### part 4 "
   ]
  },
  {
   "cell_type": "code",
   "execution_count": 93,
   "metadata": {},
   "outputs": [
    {
     "name": "stdout",
     "output_type": "stream",
     "text": [
      "cnjxoritzhvbosyewrmqhgkul\n"
     ]
    }
   ],
   "source": [
    "for id_1 in box_ids:\n",
    "    for id_2 in box_ids:\n",
    "        if id_1 == id_2:\n",
    "            continue\n",
    "        diff_count = 0\n",
    "        same_letters = ''\n",
    "        for i in range(len(id_1)):\n",
    "            if id_1[i] != id_2[i]:\n",
    "                diff_count += 1\n",
    "            else:\n",
    "                same_letters += id_1[i]\n",
    "        if diff_count == 1:\n",
    "            print(same_letters)\n",
    "            break\n",
    "    if diff_count == 1:\n",
    "        break"
   ]
  },
  {
   "cell_type": "markdown",
   "metadata": {},
   "source": [
    "### Day 3: part 5"
   ]
  },
  {
   "cell_type": "code",
   "execution_count": 99,
   "metadata": {},
   "outputs": [],
   "source": [
    "import pandas as pd"
   ]
  },
  {
   "cell_type": "code",
   "execution_count": 109,
   "metadata": {},
   "outputs": [],
   "source": [
    "fabric_ids = [i[:-1] for i in open('aoc_3.csv') if len(i) > 4]"
   ]
  },
  {
   "cell_type": "code",
   "execution_count": 190,
   "metadata": {},
   "outputs": [
    {
     "data": {
      "text/plain": [
       "'#1301 @ 130,498: 26x10'"
      ]
     },
     "execution_count": 190,
     "metadata": {},
     "output_type": "execute_result"
    }
   ],
   "source": [
    "fabric_ids[-1]"
   ]
  },
  {
   "cell_type": "code",
   "execution_count": 247,
   "metadata": {},
   "outputs": [],
   "source": [
    "heights = [int(s.split('x')[1]) for s in fabric_ids]\n",
    "\n",
    "widths = [int(s.split('x')[0].split(': ')[1]) for s in fabric_ids]\n",
    "\n",
    "from_top = [int(s.split('x')[0].split(': ')[0].split(',')[1]) for s in fabric_ids]\n",
    "\n",
    "from_left = [int(s.split('x')[0].split(': ')[0].split(',')[0].split('@ ')[1]) for s in fabric_ids]\n",
    "\n",
    "ids = [int(s.split('x')[0].split(': ')[0].split(',')[0].split(' @ ')[0][1:]) for s in fabric_ids]"
   ]
  },
  {
   "cell_type": "code",
   "execution_count": 128,
   "metadata": {},
   "outputs": [],
   "source": [
    "def overlap_corner(x,y,l,t,w,h):\n",
    "    if (x >= l) and (x < l + w) and (y >= t) and (y < t + h):\n",
    "        return True\n",
    "    else:\n",
    "        return False"
   ]
  },
  {
   "cell_type": "code",
   "execution_count": 240,
   "metadata": {},
   "outputs": [
    {
     "data": {
      "text/plain": [
       "104712"
      ]
     },
     "execution_count": 240,
     "metadata": {},
     "output_type": "execute_result"
    }
   ],
   "source": [
    "square_count = 0\n",
    "for x in range(1000):\n",
    "    for y in range(1000):\n",
    "        claim_count = 0\n",
    "        for i in range(len(heights)):\n",
    "            if overlap_corner(x,y, from_left[i],from_top[i],widths[i], heights[i]):\n",
    "                claim_count += 1\n",
    "        if claim_count > 1:\n",
    "            square_count += 1\n",
    "square_count"
   ]
  },
  {
   "cell_type": "markdown",
   "metadata": {},
   "source": [
    "### part 6"
   ]
  },
  {
   "cell_type": "code",
   "execution_count": 241,
   "metadata": {},
   "outputs": [],
   "source": [
    "def overlap_squares(L,T,W,H,l,t,w,h):\n",
    "    if (l<L+W) and (L<l+w) and (T<t+h) and (t<T+H):\n",
    "        return True\n",
    "    else:\n",
    "        return False"
   ]
  },
  {
   "cell_type": "code",
   "execution_count": 250,
   "metadata": {},
   "outputs": [
    {
     "name": "stdout",
     "output_type": "stream",
     "text": [
      "840\n"
     ]
    }
   ],
   "source": [
    "for i in range(len(ids)):\n",
    "    for o in range(len(ids)):\n",
    "        if i ==o:\n",
    "            continue\n",
    "        elif overlap_squares(from_left[i],from_top[i],widths[i],heights[i],from_left[o],from_top[o],widths[o],heights[o]):\n",
    "            break\n",
    "    else:\n",
    "        print(ids[i])"
   ]
  },
  {
   "cell_type": "code",
   "execution_count": 243,
   "metadata": {},
   "outputs": [],
   "source": [
    "test = ['#1 @ 1,3: 4x4',\n",
    "'#2 @ 3,1: 4x4',\n",
    "'#3 @ 5,5: 2x2']\n",
    "\n",
    "heights = [int(s.split('x')[1]) for s in test]\n",
    "\n",
    "widths = [int(s.split('x')[0].split(': ')[1]) for s in test]\n",
    "\n",
    "from_top = [int(s.split('x')[0].split(': ')[0].split(',')[1]) for s in test]\n",
    "\n",
    "from_left = [int(s.split('x')[0].split(': ')[0].split(',')[0].split('@ ')[1]) for s in test]\n",
    "\n",
    "ids = [int(s.split('x')[0].split(': ')[0].split(',')[0].split(' @ ')[0][1:]) for s in test]"
   ]
  },
  {
   "cell_type": "code",
   "execution_count": null,
   "metadata": {},
   "outputs": [],
   "source": []
  }
 ],
 "metadata": {
  "kernelspec": {
   "display_name": "Python 2",
   "language": "python",
   "name": "python2"
  },
  "language_info": {
   "codemirror_mode": {
    "name": "ipython",
    "version": 3
   },
   "file_extension": ".py",
   "mimetype": "text/x-python",
   "name": "python",
   "nbconvert_exporter": "python",
   "pygments_lexer": "ipython3",
   "version": "3.7.0"
  }
 },
 "nbformat": 4,
 "nbformat_minor": 2
}
