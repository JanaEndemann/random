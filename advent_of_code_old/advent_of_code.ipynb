{
 "cells": [
  {
   "cell_type": "code",
   "execution_count": 2,
   "metadata": {},
   "outputs": [],
   "source": [
    "from itertools import cycle, product\n",
    "import pandas as pd\n",
    "from datetime import datetime, timedelta\n",
    "import string\n",
    "import pickle"
   ]
  },
  {
   "cell_type": "markdown",
   "metadata": {},
   "source": [
    "### Day 1: 1"
   ]
  },
  {
   "cell_type": "code",
   "execution_count": 1,
   "metadata": {},
   "outputs": [],
   "source": [
    "freqs = [int(i) for i in open('aoc_1.csv')]"
   ]
  },
  {
   "cell_type": "code",
   "execution_count": 2,
   "metadata": {},
   "outputs": [
    {
     "data": {
      "text/plain": [
       "553"
      ]
     },
     "execution_count": 2,
     "metadata": {},
     "output_type": "execute_result"
    }
   ],
   "source": [
    "sum(freqs)"
   ]
  },
  {
   "cell_type": "markdown",
   "metadata": {},
   "source": [
    "### part 2"
   ]
  },
  {
   "cell_type": "code",
   "execution_count": 46,
   "metadata": {},
   "outputs": [
    {
     "name": "stdout",
     "output_type": "stream",
     "text": [
      "78724\n"
     ]
    }
   ],
   "source": [
    "l = []\n",
    "f = 0\n",
    "maxcount = len(freqs)*500\n",
    "count =0\n",
    "for j in cycle(freqs):\n",
    "    f += j\n",
    "    if f in l:\n",
    "        print(f)\n",
    "        break\n",
    "    l.append(f)\n",
    "    count += 1\n",
    "    if count >= maxcount:\n",
    "        print('not found')\n",
    "        break\n"
   ]
  },
  {
   "cell_type": "markdown",
   "metadata": {},
   "source": [
    "### Day 2: 3"
   ]
  },
  {
   "cell_type": "code",
   "execution_count": 84,
   "metadata": {},
   "outputs": [],
   "source": [
    "box_ids = [i[:-1] for i in open('aoc_2.csv')]"
   ]
  },
  {
   "cell_type": "code",
   "execution_count": 94,
   "metadata": {},
   "outputs": [
    {
     "name": "stdout",
     "output_type": "stream",
     "text": [
      "7410\n"
     ]
    }
   ],
   "source": [
    "double_letters = 0\n",
    "triple_letters = 0\n",
    "for box_id in box_ids:\n",
    "    Two_true = False\n",
    "    Three_true = False\n",
    "    for l in set(box_id):\n",
    "        if box_id.count(l) == 2:\n",
    "            Two_true= True\n",
    "        if box_id.count(l) == 3:\n",
    "            Three_true = True\n",
    "    if Two_true:\n",
    "        double_letters += 1\n",
    "    if Three_true:\n",
    "        triple_letters += 1\n",
    "print(double_letters*triple_letters)"
   ]
  },
  {
   "cell_type": "markdown",
   "metadata": {},
   "source": [
    "### part 4 "
   ]
  },
  {
   "cell_type": "code",
   "execution_count": 93,
   "metadata": {},
   "outputs": [
    {
     "name": "stdout",
     "output_type": "stream",
     "text": [
      "cnjxoritzhvbosyewrmqhgkul\n"
     ]
    }
   ],
   "source": [
    "for id_1 in box_ids:\n",
    "    for id_2 in box_ids:\n",
    "        if id_1 == id_2:\n",
    "            continue\n",
    "        diff_count = 0\n",
    "        same_letters = ''\n",
    "        for i in range(len(id_1)):\n",
    "            if id_1[i] != id_2[i]:\n",
    "                diff_count += 1\n",
    "            else:\n",
    "                same_letters += id_1[i]\n",
    "        if diff_count == 1:\n",
    "            print(same_letters)\n",
    "            break\n",
    "    if diff_count == 1:\n",
    "        break"
   ]
  },
  {
   "cell_type": "markdown",
   "metadata": {},
   "source": [
    "### Day 3: part 5"
   ]
  },
  {
   "cell_type": "code",
   "execution_count": 109,
   "metadata": {},
   "outputs": [],
   "source": [
    "fabric_ids = [i[:-1] for i in open('aoc_3.csv') if len(i) > 4]"
   ]
  },
  {
   "cell_type": "code",
   "execution_count": 190,
   "metadata": {},
   "outputs": [
    {
     "data": {
      "text/plain": [
       "'#1301 @ 130,498: 26x10'"
      ]
     },
     "execution_count": 190,
     "metadata": {},
     "output_type": "execute_result"
    }
   ],
   "source": [
    "fabric_ids[-1]"
   ]
  },
  {
   "cell_type": "code",
   "execution_count": 247,
   "metadata": {},
   "outputs": [],
   "source": [
    "heights = [int(s.split('x')[1]) for s in fabric_ids]\n",
    "\n",
    "widths = [int(s.split('x')[0].split(': ')[1]) for s in fabric_ids]\n",
    "\n",
    "from_top = [int(s.split('x')[0].split(': ')[0].split(',')[1]) for s in fabric_ids]\n",
    "\n",
    "from_left = [int(s.split('x')[0].split(': ')[0].split(',')[0].split('@ ')[1]) for s in fabric_ids]\n",
    "\n",
    "ids = [int(s.split('x')[0].split(': ')[0].split(',')[0].split(' @ ')[0][1:]) for s in fabric_ids]"
   ]
  },
  {
   "cell_type": "code",
   "execution_count": 128,
   "metadata": {},
   "outputs": [],
   "source": [
    "def overlap_corner(x,y,l,t,w,h):\n",
    "    if (x >= l) and (x < l + w) and (y >= t) and (y < t + h):\n",
    "        return True\n",
    "    else:\n",
    "        return False"
   ]
  },
  {
   "cell_type": "code",
   "execution_count": 240,
   "metadata": {},
   "outputs": [
    {
     "data": {
      "text/plain": [
       "104712"
      ]
     },
     "execution_count": 240,
     "metadata": {},
     "output_type": "execute_result"
    }
   ],
   "source": [
    "square_count = 0\n",
    "for x in range(1000):\n",
    "    for y in range(1000):\n",
    "        claim_count = 0\n",
    "        for i in range(len(heights)):\n",
    "            if overlap_corner(x,y, from_left[i],from_top[i],widths[i], heights[i]):\n",
    "                claim_count += 1\n",
    "        if claim_count > 1:\n",
    "            square_count += 1\n",
    "square_count"
   ]
  },
  {
   "cell_type": "markdown",
   "metadata": {},
   "source": [
    "### part 6"
   ]
  },
  {
   "cell_type": "code",
   "execution_count": 241,
   "metadata": {},
   "outputs": [],
   "source": [
    "def overlap_squares(L,T,W,H,l,t,w,h):\n",
    "    if (l<L+W) and (L<l+w) and (T<t+h) and (t<T+H):\n",
    "        return True\n",
    "    else:\n",
    "        return False"
   ]
  },
  {
   "cell_type": "code",
   "execution_count": 250,
   "metadata": {},
   "outputs": [
    {
     "name": "stdout",
     "output_type": "stream",
     "text": [
      "840\n"
     ]
    }
   ],
   "source": [
    "for i in range(len(ids)):\n",
    "    for o in range(len(ids)):\n",
    "        if i ==o:\n",
    "            continue\n",
    "        elif overlap_squares(from_left[i],from_top[i],widths[i],heights[i],from_left[o],from_top[o],widths[o],heights[o]):\n",
    "            break\n",
    "    else:\n",
    "        print(ids[i])"
   ]
  },
  {
   "cell_type": "code",
   "execution_count": 243,
   "metadata": {},
   "outputs": [],
   "source": [
    "test = ['#1 @ 1,3: 4x4',\n",
    "'#2 @ 3,1: 4x4',\n",
    "'#3 @ 5,5: 2x2']\n",
    "\n",
    "heights = [int(s.split('x')[1]) for s in test]\n",
    "\n",
    "widths = [int(s.split('x')[0].split(': ')[1]) for s in test]\n",
    "\n",
    "from_top = [int(s.split('x')[0].split(': ')[0].split(',')[1]) for s in test]\n",
    "\n",
    "from_left = [int(s.split('x')[0].split(': ')[0].split(',')[0].split('@ ')[1]) for s in test]\n",
    "\n",
    "ids = [int(s.split('x')[0].split(': ')[0].split(',')[0].split(' @ ')[0][1:]) for s in test]"
   ]
  },
  {
   "cell_type": "markdown",
   "metadata": {},
   "source": [
    "### day 4: part 7"
   ]
  },
  {
   "cell_type": "code",
   "execution_count": 2,
   "metadata": {},
   "outputs": [],
   "source": [
    "dt = [i[1:17] for i in open('aoc_4.csv')]\n",
    "dt = [datetime.strptime(d,'%Y-%m-%d %H:%M') for d in dt]"
   ]
  },
  {
   "cell_type": "code",
   "execution_count": 3,
   "metadata": {},
   "outputs": [],
   "source": [
    "vals = [i[19:-1] for i in open('aoc_4.csv')]"
   ]
  },
  {
   "cell_type": "code",
   "execution_count": 4,
   "metadata": {},
   "outputs": [],
   "source": [
    "df_guard_schedule = pd.DataFrame(index=dt, data=vals, columns=['text'])"
   ]
  },
  {
   "cell_type": "code",
   "execution_count": 5,
   "metadata": {},
   "outputs": [],
   "source": [
    "df_guard_schedule.sort_index(inplace = True)"
   ]
  },
  {
   "cell_type": "code",
   "execution_count": 6,
   "metadata": {},
   "outputs": [
    {
     "data": {
      "text/html": [
       "<div>\n",
       "<style scoped>\n",
       "    .dataframe tbody tr th:only-of-type {\n",
       "        vertical-align: middle;\n",
       "    }\n",
       "\n",
       "    .dataframe tbody tr th {\n",
       "        vertical-align: top;\n",
       "    }\n",
       "\n",
       "    .dataframe thead th {\n",
       "        text-align: right;\n",
       "    }\n",
       "</style>\n",
       "<table border=\"1\" class=\"dataframe\">\n",
       "  <thead>\n",
       "    <tr style=\"text-align: right;\">\n",
       "      <th></th>\n",
       "      <th>text</th>\n",
       "    </tr>\n",
       "  </thead>\n",
       "  <tbody>\n",
       "    <tr>\n",
       "      <th>1518-03-15 00:01:00</th>\n",
       "      <td>Guard #709 begins shift</td>\n",
       "    </tr>\n",
       "    <tr>\n",
       "      <th>1518-03-15 00:12:00</th>\n",
       "      <td>falls asleep</td>\n",
       "    </tr>\n",
       "    <tr>\n",
       "      <th>1518-03-15 00:53:00</th>\n",
       "      <td>wakes up</td>\n",
       "    </tr>\n",
       "    <tr>\n",
       "      <th>1518-03-15 23:53:00</th>\n",
       "      <td>Guard #919 begins shift</td>\n",
       "    </tr>\n",
       "    <tr>\n",
       "      <th>1518-03-16 00:01:00</th>\n",
       "      <td>falls asleep</td>\n",
       "    </tr>\n",
       "  </tbody>\n",
       "</table>\n",
       "</div>"
      ],
      "text/plain": [
       "                                        text\n",
       "1518-03-15 00:01:00  Guard #709 begins shift\n",
       "1518-03-15 00:12:00             falls asleep\n",
       "1518-03-15 00:53:00                 wakes up\n",
       "1518-03-15 23:53:00  Guard #919 begins shift\n",
       "1518-03-16 00:01:00             falls asleep"
      ]
     },
     "execution_count": 6,
     "metadata": {},
     "output_type": "execute_result"
    }
   ],
   "source": [
    "df_guard_schedule.head()"
   ]
  },
  {
   "cell_type": "code",
   "execution_count": 7,
   "metadata": {},
   "outputs": [],
   "source": [
    "for i in df_guard_schedule.index:\n",
    "    if i.hour == 0:\n",
    "        df_guard_schedule.loc[i,'minute'] = i.minute\n",
    "        df_guard_schedule.loc[i,'month'] = i.month\n",
    "        df_guard_schedule.loc[i,'day'] = i.day\n",
    "    else:\n",
    "        df_guard_schedule.loc[i,'minute'] = 0\n",
    "        df_guard_schedule.loc[i,'month'] = (i+timedelta(hours = 1)).month\n",
    "        df_guard_schedule.loc[i,'day'] = (i+timedelta(hours = 1)).day\n",
    "    if df_guard_schedule.loc[i,'text'].startswith('Guard'):\n",
    "        df_guard_schedule.loc[i,'asleep'] = 0\n",
    "        df_guard_schedule.loc[i,'guard'] = df_guard_schedule.loc[i,'text'].split(' ')[1][1:]\n",
    "    elif df_guard_schedule.loc[i,'text'] == 'falls asleep':\n",
    "        df_guard_schedule.loc[i,'asleep'] = 1\n",
    "    else:\n",
    "        df_guard_schedule.loc[i,'asleep'] = 0"
   ]
  },
  {
   "cell_type": "code",
   "execution_count": 8,
   "metadata": {},
   "outputs": [],
   "source": [
    "df_times = pd.DataFrame()\n",
    "d = df_guard_schedule.index.min().replace(hour =0, minute = 0)\n",
    "while d <= df_guard_schedule.index.max().replace(hour =0, minute = 0):\n",
    "    if d.hour == 0:\n",
    "        df_times.loc[d, 'minute'] = d.minute\n",
    "        df_times.loc[d, 'month'] = d.month\n",
    "        df_times.loc[d, 'day'] = d.day\n",
    "        d += timedelta(minutes = 1)\n",
    "    else:\n",
    "        d += timedelta(hours = 23)"
   ]
  },
  {
   "cell_type": "code",
   "execution_count": 18,
   "metadata": {},
   "outputs": [],
   "source": [
    "df_full_guard_schedule = df_times.merge(df_guard_schedule,left_on = ['month','day', 'minute'],right_on = ['month','day', 'minute'], how = 'left')"
   ]
  },
  {
   "cell_type": "code",
   "execution_count": 22,
   "metadata": {},
   "outputs": [],
   "source": [
    "df_full_guard_schedule.fillna(method='ffill', inplace = True)"
   ]
  },
  {
   "cell_type": "code",
   "execution_count": 24,
   "metadata": {},
   "outputs": [
    {
     "data": {
      "text/html": [
       "<div>\n",
       "<style scoped>\n",
       "    .dataframe tbody tr th:only-of-type {\n",
       "        vertical-align: middle;\n",
       "    }\n",
       "\n",
       "    .dataframe tbody tr th {\n",
       "        vertical-align: top;\n",
       "    }\n",
       "\n",
       "    .dataframe thead th {\n",
       "        text-align: right;\n",
       "    }\n",
       "</style>\n",
       "<table border=\"1\" class=\"dataframe\">\n",
       "  <thead>\n",
       "    <tr style=\"text-align: right;\">\n",
       "      <th></th>\n",
       "      <th>minute</th>\n",
       "      <th>month</th>\n",
       "      <th>day</th>\n",
       "      <th>text</th>\n",
       "      <th>asleep</th>\n",
       "      <th>guard</th>\n",
       "    </tr>\n",
       "  </thead>\n",
       "  <tbody>\n",
       "    <tr>\n",
       "      <th>0</th>\n",
       "      <td>0.0</td>\n",
       "      <td>3.0</td>\n",
       "      <td>15.0</td>\n",
       "      <td>NaN</td>\n",
       "      <td>NaN</td>\n",
       "      <td>NaN</td>\n",
       "    </tr>\n",
       "    <tr>\n",
       "      <th>1</th>\n",
       "      <td>1.0</td>\n",
       "      <td>3.0</td>\n",
       "      <td>15.0</td>\n",
       "      <td>Guard #709 begins shift</td>\n",
       "      <td>0.0</td>\n",
       "      <td>709</td>\n",
       "    </tr>\n",
       "    <tr>\n",
       "      <th>2</th>\n",
       "      <td>2.0</td>\n",
       "      <td>3.0</td>\n",
       "      <td>15.0</td>\n",
       "      <td>Guard #709 begins shift</td>\n",
       "      <td>0.0</td>\n",
       "      <td>709</td>\n",
       "    </tr>\n",
       "    <tr>\n",
       "      <th>3</th>\n",
       "      <td>3.0</td>\n",
       "      <td>3.0</td>\n",
       "      <td>15.0</td>\n",
       "      <td>Guard #709 begins shift</td>\n",
       "      <td>0.0</td>\n",
       "      <td>709</td>\n",
       "    </tr>\n",
       "    <tr>\n",
       "      <th>4</th>\n",
       "      <td>4.0</td>\n",
       "      <td>3.0</td>\n",
       "      <td>15.0</td>\n",
       "      <td>Guard #709 begins shift</td>\n",
       "      <td>0.0</td>\n",
       "      <td>709</td>\n",
       "    </tr>\n",
       "  </tbody>\n",
       "</table>\n",
       "</div>"
      ],
      "text/plain": [
       "   minute  month   day                     text  asleep guard\n",
       "0     0.0    3.0  15.0                      NaN     NaN   NaN\n",
       "1     1.0    3.0  15.0  Guard #709 begins shift     0.0   709\n",
       "2     2.0    3.0  15.0  Guard #709 begins shift     0.0   709\n",
       "3     3.0    3.0  15.0  Guard #709 begins shift     0.0   709\n",
       "4     4.0    3.0  15.0  Guard #709 begins shift     0.0   709"
      ]
     },
     "execution_count": 24,
     "metadata": {},
     "output_type": "execute_result"
    }
   ],
   "source": [
    "df_full_guard_schedule.head()"
   ]
  },
  {
   "cell_type": "code",
   "execution_count": 32,
   "metadata": {},
   "outputs": [
    {
     "data": {
      "text/plain": [
       "'2663'"
      ]
     },
     "execution_count": 32,
     "metadata": {},
     "output_type": "execute_result"
    }
   ],
   "source": [
    "most_sleepy_guard = df_full_guard_schedule.groupby(['guard']).asleep.sum().sort_values(ascending = False).index[0]\n",
    "most_sleepy_guard"
   ]
  },
  {
   "cell_type": "code",
   "execution_count": 33,
   "metadata": {},
   "outputs": [],
   "source": [
    "schedule_sleepy_guard = df_full_guard_schedule[df_full_guard_schedule['guard'] == most_sleepy_guard]"
   ]
  },
  {
   "cell_type": "code",
   "execution_count": 38,
   "metadata": {},
   "outputs": [
    {
     "data": {
      "text/plain": [
       "38.0"
      ]
     },
     "execution_count": 38,
     "metadata": {},
     "output_type": "execute_result"
    }
   ],
   "source": [
    "sleepy_minute = schedule_sleepy_guard.groupby(['minute']).asleep.sum().sort_values(ascending = False).index[0]\n",
    "sleepy_minute"
   ]
  },
  {
   "cell_type": "code",
   "execution_count": 39,
   "metadata": {},
   "outputs": [
    {
     "data": {
      "text/plain": [
       "101194.0"
      ]
     },
     "execution_count": 39,
     "metadata": {},
     "output_type": "execute_result"
    }
   ],
   "source": [
    "int(most_sleepy_guard) * sleepy_minute"
   ]
  },
  {
   "cell_type": "markdown",
   "metadata": {},
   "source": [
    "### Part 8"
   ]
  },
  {
   "cell_type": "code",
   "execution_count": 43,
   "metadata": {},
   "outputs": [],
   "source": [
    "guard, minute = df_full_guard_schedule.groupby(['guard','minute']).asleep.sum().sort_values(ascending = False).index[0]"
   ]
  },
  {
   "cell_type": "code",
   "execution_count": 44,
   "metadata": {},
   "outputs": [
    {
     "data": {
      "text/plain": [
       "102095.0"
      ]
     },
     "execution_count": 44,
     "metadata": {},
     "output_type": "execute_result"
    }
   ],
   "source": [
    "int(guard) *minute"
   ]
  },
  {
   "cell_type": "markdown",
   "metadata": {},
   "source": [
    "### Day 5: part 9"
   ]
  },
  {
   "cell_type": "code",
   "execution_count": 72,
   "metadata": {},
   "outputs": [],
   "source": [
    "polymer = next(open('aoc_5.csv'))"
   ]
  },
  {
   "cell_type": "code",
   "execution_count": 73,
   "metadata": {},
   "outputs": [
    {
     "data": {
      "text/plain": [
       "'ikeEKbBtoO'"
      ]
     },
     "execution_count": 73,
     "metadata": {},
     "output_type": "execute_result"
    }
   ],
   "source": [
    "polymer[:10]"
   ]
  },
  {
   "cell_type": "code",
   "execution_count": 74,
   "metadata": {},
   "outputs": [
    {
     "data": {
      "text/plain": [
       "50000"
      ]
     },
     "execution_count": 74,
     "metadata": {},
     "output_type": "execute_result"
    }
   ],
   "source": [
    "len(polymer)"
   ]
  },
  {
   "cell_type": "code",
   "execution_count": 69,
   "metadata": {},
   "outputs": [],
   "source": [
    "def reduce_polymer(polymer):\n",
    "    i = 0\n",
    "    while i < len(polymer) -1:\n",
    "        if (polymer[i] != polymer[i+1]) and (polymer[i].lower() == polymer[i+1].lower()):\n",
    "            polymer = polymer.replace(polymer[i] + polymer[i+1], \"\")\n",
    "            i = 0\n",
    "        else:\n",
    "            i += 1\n",
    "    return polymer"
   ]
  },
  {
   "cell_type": "code",
   "execution_count": 70,
   "metadata": {},
   "outputs": [],
   "source": [
    "basic_reduces = reduce_polymer(polymer)"
   ]
  },
  {
   "cell_type": "code",
   "execution_count": 71,
   "metadata": {},
   "outputs": [
    {
     "data": {
      "text/plain": [
       "10638"
      ]
     },
     "execution_count": 71,
     "metadata": {},
     "output_type": "execute_result"
    }
   ],
   "source": [
    "len(basic_reduces)"
   ]
  },
  {
   "cell_type": "markdown",
   "metadata": {},
   "source": [
    "### part 10"
   ]
  },
  {
   "cell_type": "code",
   "execution_count": 77,
   "metadata": {},
   "outputs": [],
   "source": [
    "unique_letters = ''.join(set(polymer.lower()))"
   ]
  },
  {
   "cell_type": "code",
   "execution_count": 78,
   "metadata": {},
   "outputs": [],
   "source": [
    "df_letter_count = pd.DataFrame()\n",
    "for l in unique_letters:\n",
    "    alt_pol = polymer.replace(l,\"\")\n",
    "    alt_pol = alt_pol.replace(l.upper(),\"\")\n",
    "    df_letter_count.loc[l, \"count\"] = len(reduce_polymer(alt_pol))"
   ]
  },
  {
   "cell_type": "code",
   "execution_count": 81,
   "metadata": {},
   "outputs": [
    {
     "data": {
      "text/html": [
       "<div>\n",
       "<style scoped>\n",
       "    .dataframe tbody tr th:only-of-type {\n",
       "        vertical-align: middle;\n",
       "    }\n",
       "\n",
       "    .dataframe tbody tr th {\n",
       "        vertical-align: top;\n",
       "    }\n",
       "\n",
       "    .dataframe thead th {\n",
       "        text-align: right;\n",
       "    }\n",
       "</style>\n",
       "<table border=\"1\" class=\"dataframe\">\n",
       "  <thead>\n",
       "    <tr style=\"text-align: right;\">\n",
       "      <th></th>\n",
       "      <th>count</th>\n",
       "    </tr>\n",
       "  </thead>\n",
       "  <tbody>\n",
       "    <tr>\n",
       "      <th>v</th>\n",
       "      <td>4944.0</td>\n",
       "    </tr>\n",
       "    <tr>\n",
       "      <th>l</th>\n",
       "      <td>10158.0</td>\n",
       "    </tr>\n",
       "    <tr>\n",
       "      <th>j</th>\n",
       "      <td>10168.0</td>\n",
       "    </tr>\n",
       "    <tr>\n",
       "      <th>d</th>\n",
       "      <td>10186.0</td>\n",
       "    </tr>\n",
       "    <tr>\n",
       "      <th>a</th>\n",
       "      <td>10186.0</td>\n",
       "    </tr>\n",
       "    <tr>\n",
       "      <th>q</th>\n",
       "      <td>10190.0</td>\n",
       "    </tr>\n",
       "    <tr>\n",
       "      <th>o</th>\n",
       "      <td>10190.0</td>\n",
       "    </tr>\n",
       "    <tr>\n",
       "      <th>h</th>\n",
       "      <td>10196.0</td>\n",
       "    </tr>\n",
       "    <tr>\n",
       "      <th>k</th>\n",
       "      <td>10196.0</td>\n",
       "    </tr>\n",
       "    <tr>\n",
       "      <th>p</th>\n",
       "      <td>10200.0</td>\n",
       "    </tr>\n",
       "    <tr>\n",
       "      <th>f</th>\n",
       "      <td>10208.0</td>\n",
       "    </tr>\n",
       "    <tr>\n",
       "      <th>b</th>\n",
       "      <td>10210.0</td>\n",
       "    </tr>\n",
       "    <tr>\n",
       "      <th>g</th>\n",
       "      <td>10216.0</td>\n",
       "    </tr>\n",
       "    <tr>\n",
       "      <th>c</th>\n",
       "      <td>10216.0</td>\n",
       "    </tr>\n",
       "    <tr>\n",
       "      <th>w</th>\n",
       "      <td>10220.0</td>\n",
       "    </tr>\n",
       "    <tr>\n",
       "      <th>z</th>\n",
       "      <td>10222.0</td>\n",
       "    </tr>\n",
       "    <tr>\n",
       "      <th>u</th>\n",
       "      <td>10222.0</td>\n",
       "    </tr>\n",
       "    <tr>\n",
       "      <th>r</th>\n",
       "      <td>10224.0</td>\n",
       "    </tr>\n",
       "    <tr>\n",
       "      <th>n</th>\n",
       "      <td>10226.0</td>\n",
       "    </tr>\n",
       "    <tr>\n",
       "      <th>y</th>\n",
       "      <td>10230.0</td>\n",
       "    </tr>\n",
       "    <tr>\n",
       "      <th>m</th>\n",
       "      <td>10230.0</td>\n",
       "    </tr>\n",
       "    <tr>\n",
       "      <th>s</th>\n",
       "      <td>10232.0</td>\n",
       "    </tr>\n",
       "    <tr>\n",
       "      <th>t</th>\n",
       "      <td>10244.0</td>\n",
       "    </tr>\n",
       "    <tr>\n",
       "      <th>x</th>\n",
       "      <td>10246.0</td>\n",
       "    </tr>\n",
       "    <tr>\n",
       "      <th>e</th>\n",
       "      <td>10254.0</td>\n",
       "    </tr>\n",
       "    <tr>\n",
       "      <th>i</th>\n",
       "      <td>10262.0</td>\n",
       "    </tr>\n",
       "  </tbody>\n",
       "</table>\n",
       "</div>"
      ],
      "text/plain": [
       "     count\n",
       "v   4944.0\n",
       "l  10158.0\n",
       "j  10168.0\n",
       "d  10186.0\n",
       "a  10186.0\n",
       "q  10190.0\n",
       "o  10190.0\n",
       "h  10196.0\n",
       "k  10196.0\n",
       "p  10200.0\n",
       "f  10208.0\n",
       "b  10210.0\n",
       "g  10216.0\n",
       "c  10216.0\n",
       "w  10220.0\n",
       "z  10222.0\n",
       "u  10222.0\n",
       "r  10224.0\n",
       "n  10226.0\n",
       "y  10230.0\n",
       "m  10230.0\n",
       "s  10232.0\n",
       "t  10244.0\n",
       "x  10246.0\n",
       "e  10254.0\n",
       "i  10262.0"
      ]
     },
     "execution_count": 81,
     "metadata": {},
     "output_type": "execute_result"
    }
   ],
   "source": [
    "df_letter_count.sort_values(by = 'count')"
   ]
  },
  {
   "cell_type": "markdown",
   "metadata": {},
   "source": [
    "### Day 6: part 11"
   ]
  },
  {
   "cell_type": "code",
   "execution_count": 1,
   "metadata": {},
   "outputs": [],
   "source": [
    "from itertools import cycle, product\n",
    "import pandas as pd\n",
    "from datetime import datetime, timedelta\n",
    "import string\n",
    "import pickle"
   ]
  },
  {
   "cell_type": "code",
   "execution_count": 2,
   "metadata": {},
   "outputs": [],
   "source": [
    "data=[[int(i.split(', ')[0]),int(i.split(', ')[1][:-1])] for i in open('aoc_6.csv')]"
   ]
  },
  {
   "cell_type": "code",
   "execution_count": 3,
   "metadata": {},
   "outputs": [],
   "source": [
    "index = [string.ascii_uppercase[d//26]+string.ascii_uppercase[d%26] for d in range(len(data))]"
   ]
  },
  {
   "cell_type": "code",
   "execution_count": 4,
   "metadata": {},
   "outputs": [
    {
     "data": {
      "text/html": [
       "<div>\n",
       "<style scoped>\n",
       "    .dataframe tbody tr th:only-of-type {\n",
       "        vertical-align: middle;\n",
       "    }\n",
       "\n",
       "    .dataframe tbody tr th {\n",
       "        vertical-align: top;\n",
       "    }\n",
       "\n",
       "    .dataframe thead th {\n",
       "        text-align: right;\n",
       "    }\n",
       "</style>\n",
       "<table border=\"1\" class=\"dataframe\">\n",
       "  <thead>\n",
       "    <tr style=\"text-align: right;\">\n",
       "      <th></th>\n",
       "      <th>x</th>\n",
       "      <th>y</th>\n",
       "    </tr>\n",
       "  </thead>\n",
       "  <tbody>\n",
       "    <tr>\n",
       "      <th>AA</th>\n",
       "      <td>81</td>\n",
       "      <td>46</td>\n",
       "    </tr>\n",
       "    <tr>\n",
       "      <th>AB</th>\n",
       "      <td>330</td>\n",
       "      <td>289</td>\n",
       "    </tr>\n",
       "    <tr>\n",
       "      <th>AC</th>\n",
       "      <td>171</td>\n",
       "      <td>261</td>\n",
       "    </tr>\n",
       "    <tr>\n",
       "      <th>AD</th>\n",
       "      <td>248</td>\n",
       "      <td>97</td>\n",
       "    </tr>\n",
       "    <tr>\n",
       "      <th>AE</th>\n",
       "      <td>142</td>\n",
       "      <td>265</td>\n",
       "    </tr>\n",
       "  </tbody>\n",
       "</table>\n",
       "</div>"
      ],
      "text/plain": [
       "      x    y\n",
       "AA   81   46\n",
       "AB  330  289\n",
       "AC  171  261\n",
       "AD  248   97\n",
       "AE  142  265"
      ]
     },
     "execution_count": 4,
     "metadata": {},
     "output_type": "execute_result"
    }
   ],
   "source": [
    "df_coordinates = pd.DataFrame(columns = ['x','y'], data = data, index = index)\n",
    "\n",
    "df_coordinates.head()"
   ]
  },
  {
   "cell_type": "code",
   "execution_count": 5,
   "metadata": {},
   "outputs": [],
   "source": [
    "columns = range(df_coordinates.x.min()-1, df_coordinates.x.max()+2)\n",
    "rows = range(df_coordinates.y.min()-1, df_coordinates.y.max()+2)\n",
    "df_grid = pd.DataFrame(columns=columns, index=rows, data = '.')"
   ]
  },
  {
   "cell_type": "code",
   "execution_count": 6,
   "metadata": {},
   "outputs": [],
   "source": [
    "for ix, row in df_coordinates.iterrows():\n",
    "    df_grid.loc[row.y,row.x] = ix"
   ]
  },
  {
   "cell_type": "code",
   "execution_count": 7,
   "metadata": {},
   "outputs": [
    {
     "data": {
      "text/html": [
       "<div>\n",
       "<style scoped>\n",
       "    .dataframe tbody tr th:only-of-type {\n",
       "        vertical-align: middle;\n",
       "    }\n",
       "\n",
       "    .dataframe tbody tr th {\n",
       "        vertical-align: top;\n",
       "    }\n",
       "\n",
       "    .dataframe thead th {\n",
       "        text-align: right;\n",
       "    }\n",
       "</style>\n",
       "<table border=\"1\" class=\"dataframe\">\n",
       "  <thead>\n",
       "    <tr style=\"text-align: right;\">\n",
       "      <th></th>\n",
       "      <th>46</th>\n",
       "      <th>47</th>\n",
       "      <th>48</th>\n",
       "      <th>49</th>\n",
       "      <th>50</th>\n",
       "      <th>51</th>\n",
       "      <th>52</th>\n",
       "      <th>53</th>\n",
       "      <th>54</th>\n",
       "      <th>55</th>\n",
       "      <th>...</th>\n",
       "      <th>347</th>\n",
       "      <th>348</th>\n",
       "      <th>349</th>\n",
       "      <th>350</th>\n",
       "      <th>351</th>\n",
       "      <th>352</th>\n",
       "      <th>353</th>\n",
       "      <th>354</th>\n",
       "      <th>355</th>\n",
       "      <th>356</th>\n",
       "    </tr>\n",
       "  </thead>\n",
       "  <tbody>\n",
       "    <tr>\n",
       "      <th>5</th>\n",
       "      <td>.</td>\n",
       "      <td>.</td>\n",
       "      <td>.</td>\n",
       "      <td>.</td>\n",
       "      <td>.</td>\n",
       "      <td>.</td>\n",
       "      <td>.</td>\n",
       "      <td>.</td>\n",
       "      <td>.</td>\n",
       "      <td>.</td>\n",
       "      <td>...</td>\n",
       "      <td>.</td>\n",
       "      <td>.</td>\n",
       "      <td>.</td>\n",
       "      <td>.</td>\n",
       "      <td>.</td>\n",
       "      <td>.</td>\n",
       "      <td>.</td>\n",
       "      <td>.</td>\n",
       "      <td>.</td>\n",
       "      <td>.</td>\n",
       "    </tr>\n",
       "    <tr>\n",
       "      <th>6</th>\n",
       "      <td>.</td>\n",
       "      <td>.</td>\n",
       "      <td>.</td>\n",
       "      <td>.</td>\n",
       "      <td>.</td>\n",
       "      <td>.</td>\n",
       "      <td>.</td>\n",
       "      <td>.</td>\n",
       "      <td>.</td>\n",
       "      <td>.</td>\n",
       "      <td>...</td>\n",
       "      <td>.</td>\n",
       "      <td>.</td>\n",
       "      <td>.</td>\n",
       "      <td>.</td>\n",
       "      <td>.</td>\n",
       "      <td>.</td>\n",
       "      <td>.</td>\n",
       "      <td>.</td>\n",
       "      <td>.</td>\n",
       "      <td>.</td>\n",
       "    </tr>\n",
       "    <tr>\n",
       "      <th>7</th>\n",
       "      <td>.</td>\n",
       "      <td>.</td>\n",
       "      <td>.</td>\n",
       "      <td>.</td>\n",
       "      <td>.</td>\n",
       "      <td>.</td>\n",
       "      <td>.</td>\n",
       "      <td>.</td>\n",
       "      <td>.</td>\n",
       "      <td>.</td>\n",
       "      <td>...</td>\n",
       "      <td>.</td>\n",
       "      <td>.</td>\n",
       "      <td>.</td>\n",
       "      <td>.</td>\n",
       "      <td>.</td>\n",
       "      <td>.</td>\n",
       "      <td>.</td>\n",
       "      <td>.</td>\n",
       "      <td>.</td>\n",
       "      <td>.</td>\n",
       "    </tr>\n",
       "    <tr>\n",
       "      <th>8</th>\n",
       "      <td>.</td>\n",
       "      <td>.</td>\n",
       "      <td>.</td>\n",
       "      <td>.</td>\n",
       "      <td>.</td>\n",
       "      <td>.</td>\n",
       "      <td>.</td>\n",
       "      <td>.</td>\n",
       "      <td>.</td>\n",
       "      <td>.</td>\n",
       "      <td>...</td>\n",
       "      <td>.</td>\n",
       "      <td>.</td>\n",
       "      <td>.</td>\n",
       "      <td>.</td>\n",
       "      <td>.</td>\n",
       "      <td>.</td>\n",
       "      <td>.</td>\n",
       "      <td>.</td>\n",
       "      <td>.</td>\n",
       "      <td>.</td>\n",
       "    </tr>\n",
       "    <tr>\n",
       "      <th>9</th>\n",
       "      <td>.</td>\n",
       "      <td>.</td>\n",
       "      <td>.</td>\n",
       "      <td>.</td>\n",
       "      <td>.</td>\n",
       "      <td>.</td>\n",
       "      <td>.</td>\n",
       "      <td>.</td>\n",
       "      <td>.</td>\n",
       "      <td>.</td>\n",
       "      <td>...</td>\n",
       "      <td>.</td>\n",
       "      <td>.</td>\n",
       "      <td>.</td>\n",
       "      <td>.</td>\n",
       "      <td>.</td>\n",
       "      <td>.</td>\n",
       "      <td>.</td>\n",
       "      <td>.</td>\n",
       "      <td>.</td>\n",
       "      <td>.</td>\n",
       "    </tr>\n",
       "  </tbody>\n",
       "</table>\n",
       "<p>5 rows × 311 columns</p>\n",
       "</div>"
      ],
      "text/plain": [
       "  46  47  48  49  50  51  52  53  54  55  ... 347 348 349 350 351 352 353 354  \\\n",
       "5   .   .   .   .   .   .   .   .   .   . ...   .   .   .   .   .   .   .   .   \n",
       "6   .   .   .   .   .   .   .   .   .   . ...   .   .   .   .   .   .   .   .   \n",
       "7   .   .   .   .   .   .   .   .   .   . ...   .   .   .   .   .   .   .   .   \n",
       "8   .   .   .   .   .   .   .   .   .   . ...   .   .   .   .   .   .   .   .   \n",
       "9   .   .   .   .   .   .   .   .   .   . ...   .   .   .   .   .   .   .   .   \n",
       "\n",
       "  355 356  \n",
       "5   .   .  \n",
       "6   .   .  \n",
       "7   .   .  \n",
       "8   .   .  \n",
       "9   .   .  \n",
       "\n",
       "[5 rows x 311 columns]"
      ]
     },
     "execution_count": 7,
     "metadata": {},
     "output_type": "execute_result"
    }
   ],
   "source": [
    "df_grid.head()"
   ]
  },
  {
   "cell_type": "code",
   "execution_count": 8,
   "metadata": {},
   "outputs": [],
   "source": [
    "def find_closest_point(coordinates,x_cord,y_cord):\n",
    "    if y_cord in list(coordinates[coordinates.x == x_cord].y):\n",
    "        return None\n",
    "    else:\n",
    "        for ix, row in coordinates.iterrows():\n",
    "            coordinates.loc[ix,'dist'] = abs(x_cord - coordinates.loc[ix,'x'])+abs(y_cord - coordinates.loc[ix,'y'])\n",
    "        coordinates.sort_values(by = 'dist', ascending = True, inplace = True)\n",
    "        if coordinates.dist[0] == coordinates.dist[1]:\n",
    "            return None\n",
    "        else:\n",
    "            return coordinates.index[0].lower()"
   ]
  },
  {
   "cell_type": "code",
   "execution_count": 9,
   "metadata": {},
   "outputs": [],
   "source": [
    "with open('grid_aoc_part11.pickle', 'rb') as inp:\n",
    "    df_grid = pickle.load(inp)\n",
    "inp.close()\n",
    "# for x in df_grid.columns:\n",
    "#     for y in df_grid.index:\n",
    "#         closest = find_closest_point(df_coordinates,x,y)\n",
    "#         if not closest is None:\n",
    "#             df_grid.loc[y,x] = closest"
   ]
  },
  {
   "cell_type": "code",
   "execution_count": 10,
   "metadata": {},
   "outputs": [
    {
     "data": {
      "text/html": [
       "<div>\n",
       "<style scoped>\n",
       "    .dataframe tbody tr th:only-of-type {\n",
       "        vertical-align: middle;\n",
       "    }\n",
       "\n",
       "    .dataframe tbody tr th {\n",
       "        vertical-align: top;\n",
       "    }\n",
       "\n",
       "    .dataframe thead th {\n",
       "        text-align: right;\n",
       "    }\n",
       "</style>\n",
       "<table border=\"1\" class=\"dataframe\">\n",
       "  <thead>\n",
       "    <tr style=\"text-align: right;\">\n",
       "      <th></th>\n",
       "      <th>46</th>\n",
       "      <th>47</th>\n",
       "      <th>48</th>\n",
       "      <th>49</th>\n",
       "      <th>50</th>\n",
       "      <th>51</th>\n",
       "      <th>52</th>\n",
       "      <th>53</th>\n",
       "      <th>54</th>\n",
       "      <th>55</th>\n",
       "      <th>...</th>\n",
       "      <th>347</th>\n",
       "      <th>348</th>\n",
       "      <th>349</th>\n",
       "      <th>350</th>\n",
       "      <th>351</th>\n",
       "      <th>352</th>\n",
       "      <th>353</th>\n",
       "      <th>354</th>\n",
       "      <th>355</th>\n",
       "      <th>356</th>\n",
       "    </tr>\n",
       "  </thead>\n",
       "  <tbody>\n",
       "    <tr>\n",
       "      <th>5</th>\n",
       "      <td>aa</td>\n",
       "      <td>aa</td>\n",
       "      <td>aa</td>\n",
       "      <td>aa</td>\n",
       "      <td>aa</td>\n",
       "      <td>aa</td>\n",
       "      <td>aa</td>\n",
       "      <td>aa</td>\n",
       "      <td>aa</td>\n",
       "      <td>aa</td>\n",
       "      <td>...</td>\n",
       "      <td>bx</td>\n",
       "      <td>bx</td>\n",
       "      <td>bx</td>\n",
       "      <td>bx</td>\n",
       "      <td>bx</td>\n",
       "      <td>bx</td>\n",
       "      <td>bx</td>\n",
       "      <td>bx</td>\n",
       "      <td>bx</td>\n",
       "      <td>bx</td>\n",
       "    </tr>\n",
       "    <tr>\n",
       "      <th>6</th>\n",
       "      <td>aa</td>\n",
       "      <td>aa</td>\n",
       "      <td>aa</td>\n",
       "      <td>aa</td>\n",
       "      <td>aa</td>\n",
       "      <td>aa</td>\n",
       "      <td>aa</td>\n",
       "      <td>aa</td>\n",
       "      <td>aa</td>\n",
       "      <td>aa</td>\n",
       "      <td>...</td>\n",
       "      <td>bx</td>\n",
       "      <td>bx</td>\n",
       "      <td>bx</td>\n",
       "      <td>bx</td>\n",
       "      <td>bx</td>\n",
       "      <td>bx</td>\n",
       "      <td>bx</td>\n",
       "      <td>bx</td>\n",
       "      <td>bx</td>\n",
       "      <td>bx</td>\n",
       "    </tr>\n",
       "    <tr>\n",
       "      <th>7</th>\n",
       "      <td>aa</td>\n",
       "      <td>aa</td>\n",
       "      <td>aa</td>\n",
       "      <td>aa</td>\n",
       "      <td>aa</td>\n",
       "      <td>aa</td>\n",
       "      <td>aa</td>\n",
       "      <td>aa</td>\n",
       "      <td>aa</td>\n",
       "      <td>aa</td>\n",
       "      <td>...</td>\n",
       "      <td>bx</td>\n",
       "      <td>bx</td>\n",
       "      <td>bx</td>\n",
       "      <td>bx</td>\n",
       "      <td>bx</td>\n",
       "      <td>bx</td>\n",
       "      <td>bx</td>\n",
       "      <td>bx</td>\n",
       "      <td>bx</td>\n",
       "      <td>bx</td>\n",
       "    </tr>\n",
       "    <tr>\n",
       "      <th>8</th>\n",
       "      <td>aa</td>\n",
       "      <td>aa</td>\n",
       "      <td>aa</td>\n",
       "      <td>aa</td>\n",
       "      <td>aa</td>\n",
       "      <td>aa</td>\n",
       "      <td>aa</td>\n",
       "      <td>aa</td>\n",
       "      <td>aa</td>\n",
       "      <td>aa</td>\n",
       "      <td>...</td>\n",
       "      <td>bx</td>\n",
       "      <td>bx</td>\n",
       "      <td>bx</td>\n",
       "      <td>bx</td>\n",
       "      <td>bx</td>\n",
       "      <td>bx</td>\n",
       "      <td>bx</td>\n",
       "      <td>bx</td>\n",
       "      <td>bx</td>\n",
       "      <td>bx</td>\n",
       "    </tr>\n",
       "    <tr>\n",
       "      <th>9</th>\n",
       "      <td>aa</td>\n",
       "      <td>aa</td>\n",
       "      <td>aa</td>\n",
       "      <td>aa</td>\n",
       "      <td>aa</td>\n",
       "      <td>aa</td>\n",
       "      <td>aa</td>\n",
       "      <td>aa</td>\n",
       "      <td>aa</td>\n",
       "      <td>aa</td>\n",
       "      <td>...</td>\n",
       "      <td>bx</td>\n",
       "      <td>bx</td>\n",
       "      <td>bx</td>\n",
       "      <td>bx</td>\n",
       "      <td>bx</td>\n",
       "      <td>bx</td>\n",
       "      <td>bx</td>\n",
       "      <td>bx</td>\n",
       "      <td>bx</td>\n",
       "      <td>bx</td>\n",
       "    </tr>\n",
       "  </tbody>\n",
       "</table>\n",
       "<p>5 rows × 311 columns</p>\n",
       "</div>"
      ],
      "text/plain": [
       "  46  47  48  49  50  51  52  53  54  55  ... 347 348 349 350 351 352 353 354  \\\n",
       "5  aa  aa  aa  aa  aa  aa  aa  aa  aa  aa ...  bx  bx  bx  bx  bx  bx  bx  bx   \n",
       "6  aa  aa  aa  aa  aa  aa  aa  aa  aa  aa ...  bx  bx  bx  bx  bx  bx  bx  bx   \n",
       "7  aa  aa  aa  aa  aa  aa  aa  aa  aa  aa ...  bx  bx  bx  bx  bx  bx  bx  bx   \n",
       "8  aa  aa  aa  aa  aa  aa  aa  aa  aa  aa ...  bx  bx  bx  bx  bx  bx  bx  bx   \n",
       "9  aa  aa  aa  aa  aa  aa  aa  aa  aa  aa ...  bx  bx  bx  bx  bx  bx  bx  bx   \n",
       "\n",
       "  355 356  \n",
       "5  bx  bx  \n",
       "6  bx  bx  \n",
       "7  bx  bx  \n",
       "8  bx  bx  \n",
       "9  bx  bx  \n",
       "\n",
       "[5 rows x 311 columns]"
      ]
     },
     "execution_count": 10,
     "metadata": {},
     "output_type": "execute_result"
    }
   ],
   "source": [
    "df_grid.head()"
   ]
  },
  {
   "cell_type": "markdown",
   "metadata": {},
   "source": [
    "Check by hand that there are no surfaces converging near the edge.\n",
    "\n",
    "Save the grid, bacause oit took a long time to run!"
   ]
  },
  {
   "cell_type": "code",
   "execution_count": 96,
   "metadata": {},
   "outputs": [],
   "source": [
    "with open('grid_aoc_part11.pickle', 'wb') as output:\n",
    "    pickle.dump(df_grid,output)\n",
    "output.close()"
   ]
  },
  {
   "cell_type": "code",
   "execution_count": 98,
   "metadata": {},
   "outputs": [
    {
     "data": {
      "text/plain": [
       "bj    5186.0\n",
       "aa    4974.0\n",
       "ah    4504.0\n",
       "as    4241.0\n",
       "ao    4113.0\n",
       "dtype: float64"
      ]
     },
     "execution_count": 98,
     "metadata": {},
     "output_type": "execute_result"
    }
   ],
   "source": [
    "df_count = df_grid.apply(pd.value_counts).fillna(0).sum(axis = 1)\n",
    "df_count.sort_values(ascending = False).head()"
   ]
  },
  {
   "cell_type": "code",
   "execution_count": 100,
   "metadata": {},
   "outputs": [
    {
     "data": {
      "text/plain": [
       "bj    5186.0\n",
       "ah    4504.0\n",
       "ao    4113.0\n",
       "am    3981.0\n",
       "be    3531.0\n",
       "dtype: float64"
      ]
     },
     "execution_count": 100,
     "metadata": {},
     "output_type": "execute_result"
    }
   ],
   "source": [
    "df_count_finite = df_count[(~df_count.index.isin(df_grid[df_grid.columns[0]]))&\n",
    "                           (~df_count.index.isin(df_grid[df_grid.columns[-1]]))&\n",
    "                           (~df_count.index.isin(df_grid.loc[df_grid.index[0]]))&\n",
    "                           (~df_count.index.isin(df_grid.loc[df_grid.index[-1]]))]\n",
    "df_count_finite.sort_values(ascending = False).head()"
   ]
  },
  {
   "cell_type": "code",
   "execution_count": 93,
   "metadata": {},
   "outputs": [
    {
     "data": {
      "text/plain": [
       "5187.0"
      ]
     },
     "execution_count": 93,
     "metadata": {},
     "output_type": "execute_result"
    }
   ],
   "source": [
    "df_count_finite.sort_values(ascending = False)[0]+1 # +1 because the uppercase coordinate itself also counts"
   ]
  },
  {
   "cell_type": "markdown",
   "metadata": {},
   "source": [
    "### part 12"
   ]
  },
  {
   "cell_type": "code",
   "execution_count": 8,
   "metadata": {},
   "outputs": [],
   "source": [
    "def sum_distances(coordinates,x_cord,y_cord):\n",
    "    for ix, row in coordinates.iterrows():\n",
    "        coordinates.loc[ix,'dist'] = abs(x_cord - coordinates.loc[ix,'x'])+abs(y_cord - coordinates.loc[ix,'y'])\n",
    "    return coordinates.dist.sum()"
   ]
  },
  {
   "cell_type": "code",
   "execution_count": 30,
   "metadata": {},
   "outputs": [],
   "source": [
    "df_distances = pd.DataFrame()\n",
    "for x in df_grid.columns:\n",
    "    for y in df_grid.index:\n",
    "        df_distances = df_distances.append( {'x':x,'y':y,'dist':sum_distances(df_coordinates,x,y)}, ignore_index= True)"
   ]
  },
  {
   "cell_type": "code",
   "execution_count": 31,
   "metadata": {},
   "outputs": [
    {
     "data": {
      "text/html": [
       "<div>\n",
       "<style scoped>\n",
       "    .dataframe tbody tr th:only-of-type {\n",
       "        vertical-align: middle;\n",
       "    }\n",
       "\n",
       "    .dataframe tbody tr th {\n",
       "        vertical-align: top;\n",
       "    }\n",
       "\n",
       "    .dataframe thead th {\n",
       "        text-align: right;\n",
       "    }\n",
       "</style>\n",
       "<table border=\"1\" class=\"dataframe\">\n",
       "  <thead>\n",
       "    <tr style=\"text-align: right;\">\n",
       "      <th></th>\n",
       "      <th>dist</th>\n",
       "      <th>x</th>\n",
       "      <th>y</th>\n",
       "    </tr>\n",
       "  </thead>\n",
       "  <tbody>\n",
       "    <tr>\n",
       "      <th>59382</th>\n",
       "      <td>8327.0</td>\n",
       "      <td>217.0</td>\n",
       "      <td>221.0</td>\n",
       "    </tr>\n",
       "    <tr>\n",
       "      <th>59383</th>\n",
       "      <td>8327.0</td>\n",
       "      <td>217.0</td>\n",
       "      <td>222.0</td>\n",
       "    </tr>\n",
       "    <tr>\n",
       "      <th>59384</th>\n",
       "      <td>8327.0</td>\n",
       "      <td>217.0</td>\n",
       "      <td>223.0</td>\n",
       "    </tr>\n",
       "    <tr>\n",
       "      <th>59036</th>\n",
       "      <td>8329.0</td>\n",
       "      <td>216.0</td>\n",
       "      <td>221.0</td>\n",
       "    </tr>\n",
       "    <tr>\n",
       "      <th>59381</th>\n",
       "      <td>8329.0</td>\n",
       "      <td>217.0</td>\n",
       "      <td>220.0</td>\n",
       "    </tr>\n",
       "  </tbody>\n",
       "</table>\n",
       "</div>"
      ],
      "text/plain": [
       "         dist      x      y\n",
       "59382  8327.0  217.0  221.0\n",
       "59383  8327.0  217.0  222.0\n",
       "59384  8327.0  217.0  223.0\n",
       "59036  8329.0  216.0  221.0\n",
       "59381  8329.0  217.0  220.0"
      ]
     },
     "execution_count": 31,
     "metadata": {},
     "output_type": "execute_result"
    }
   ],
   "source": [
    "df_distances.sort_values(by = 'dist', ascending = True).head()"
   ]
  },
  {
   "cell_type": "code",
   "execution_count": 32,
   "metadata": {},
   "outputs": [
    {
     "data": {
      "text/plain": [
       "dist    33479\n",
       "x       33479\n",
       "y       33479\n",
       "dtype: int64"
      ]
     },
     "execution_count": 32,
     "metadata": {},
     "output_type": "execute_result"
    }
   ],
   "source": [
    "df_distances[df_distances.dist < 10000].count()"
   ]
  },
  {
   "cell_type": "markdown",
   "metadata": {},
   "source": [
    "not solved!!!"
   ]
  },
  {
   "cell_type": "markdown",
   "metadata": {},
   "source": [
    "### Day 7: part 13"
   ]
  },
  {
   "cell_type": "code",
   "execution_count": 4,
   "metadata": {},
   "outputs": [],
   "source": [
    "finished = [s.split(' ')[1] for s in open('aoc_7.csv')]"
   ]
  },
  {
   "cell_type": "code",
   "execution_count": 6,
   "metadata": {},
   "outputs": [],
   "source": [
    "before = [s.split(' ')[7] for s in open('aoc_7.csv')]"
   ]
  },
  {
   "cell_type": "code",
   "execution_count": 9,
   "metadata": {},
   "outputs": [],
   "source": [
    "df_steps = pd.DataFrame({'finished': finished,'before': before})"
   ]
  },
  {
   "cell_type": "code",
   "execution_count": 10,
   "metadata": {},
   "outputs": [
    {
     "data": {
      "text/html": [
       "<div>\n",
       "<style scoped>\n",
       "    .dataframe tbody tr th:only-of-type {\n",
       "        vertical-align: middle;\n",
       "    }\n",
       "\n",
       "    .dataframe tbody tr th {\n",
       "        vertical-align: top;\n",
       "    }\n",
       "\n",
       "    .dataframe thead th {\n",
       "        text-align: right;\n",
       "    }\n",
       "</style>\n",
       "<table border=\"1\" class=\"dataframe\">\n",
       "  <thead>\n",
       "    <tr style=\"text-align: right;\">\n",
       "      <th></th>\n",
       "      <th>finished</th>\n",
       "      <th>before</th>\n",
       "    </tr>\n",
       "  </thead>\n",
       "  <tbody>\n",
       "    <tr>\n",
       "      <th>0</th>\n",
       "      <td>L</td>\n",
       "      <td>M</td>\n",
       "    </tr>\n",
       "    <tr>\n",
       "      <th>1</th>\n",
       "      <td>B</td>\n",
       "      <td>S</td>\n",
       "    </tr>\n",
       "    <tr>\n",
       "      <th>2</th>\n",
       "      <td>F</td>\n",
       "      <td>M</td>\n",
       "    </tr>\n",
       "    <tr>\n",
       "      <th>3</th>\n",
       "      <td>C</td>\n",
       "      <td>P</td>\n",
       "    </tr>\n",
       "    <tr>\n",
       "      <th>4</th>\n",
       "      <td>D</td>\n",
       "      <td>V</td>\n",
       "    </tr>\n",
       "  </tbody>\n",
       "</table>\n",
       "</div>"
      ],
      "text/plain": [
       "  finished before\n",
       "0        L      M\n",
       "1        B      S\n",
       "2        F      M\n",
       "3        C      P\n",
       "4        D      V"
      ]
     },
     "execution_count": 10,
     "metadata": {},
     "output_type": "execute_result"
    }
   ],
   "source": [
    "df_steps.head()"
   ]
  },
  {
   "cell_type": "code",
   "execution_count": 12,
   "metadata": {},
   "outputs": [
    {
     "data": {
      "text/plain": [
       "'ABCDEFGHIJKLMNOPQRSTUVWXYZ'"
      ]
     },
     "execution_count": 12,
     "metadata": {},
     "output_type": "execute_result"
    }
   ],
   "source": [
    "string.ascii_uppercase"
   ]
  },
  {
   "cell_type": "code",
   "execution_count": 57,
   "metadata": {},
   "outputs": [],
   "source": [
    "def find_possible_step(current_finished_steps, df_steps, in_progress = ''):\n",
    "    abc = string.ascii_uppercase\n",
    "    for i in abc:\n",
    "        if (i in current_finished_steps) or (i in in_progress):\n",
    "            abc = abc.replace(i,\"\")\n",
    "    for step_b in df_steps.before.unique():\n",
    "        for step_f in df_steps[df_steps.before == step_b].finished:\n",
    "            if step_f not in current_finished_steps:\n",
    "                abc = abc.replace(step_b,\"\")\n",
    "                continue\n",
    "    if not abc == '':\n",
    "        return abc[0]\n",
    "    else:\n",
    "        return abc"
   ]
  },
  {
   "cell_type": "code",
   "execution_count": 39,
   "metadata": {},
   "outputs": [
    {
     "data": {
      "text/plain": [
       "'BCEFLDMQTXHZGKIASVJYORPUWN'"
      ]
     },
     "execution_count": 39,
     "metadata": {},
     "output_type": "execute_result"
    }
   ],
   "source": [
    "steps = ''\n",
    "for x in range(26):\n",
    "    steps += (find_possible_step(steps,df_steps))\n",
    "steps"
   ]
  },
  {
   "cell_type": "markdown",
   "metadata": {},
   "source": [
    "### part 14"
   ]
  },
  {
   "cell_type": "code",
   "execution_count": 68,
   "metadata": {},
   "outputs": [],
   "source": [
    "def update_workers(workers, df_progress, t,finished_steps):\n",
    "    for worker in workers:\n",
    "        if workers[worker] != '':\n",
    "            if df_progress.loc[workers[worker],'end'] == t:\n",
    "                finished_steps += workers[worker]\n",
    "                workers[worker] = ''\n",
    "    return workers, finished_steps"
   ]
  },
  {
   "cell_type": "code",
   "execution_count": 80,
   "metadata": {},
   "outputs": [],
   "source": [
    "def assign_work(workers, next_step, df_progress):\n",
    "    if next_step == '':\n",
    "        return workers, df_progress\n",
    "    for worker in workers:\n",
    "        if workers[worker] == '':\n",
    "            workers[worker] = next_step\n",
    "            df_progress.loc[next_step, 'start'] = t\n",
    "            df_progress.loc[next_step, 'end'] = t + 61 + string.ascii_uppercase.index(next_step)\n",
    "            break\n",
    "    return workers, df_progress"
   ]
  },
  {
   "cell_type": "code",
   "execution_count": 86,
   "metadata": {},
   "outputs": [],
   "source": [
    "workers = {'w1':'','w2':'','w3':'','w4':'','w5':''}\n",
    "\n",
    "df_progress = pd.DataFrame(columns=['start','end'])\n",
    "\n",
    "finished_steps = ''\n",
    "\n",
    "t = 0\n",
    "while len(df_progress.index) < 26:\n",
    "    workers,finished_steps  = update_workers(workers, df_progress, t,finished_steps)\n",
    "    for i in range(5):\n",
    "        next_step = find_possible_step(finished_steps,df_steps,df_progress.index)\n",
    "        workers, df_progress = assign_work(workers,next_step,df_progress)\n",
    "    t += 1\n"
   ]
  },
  {
   "cell_type": "code",
   "execution_count": 87,
   "metadata": {},
   "outputs": [
    {
     "data": {
      "text/plain": [
       "Index(['B', 'F', 'L', 'T', 'C', 'D', 'M', 'Z', 'E', 'G', 'V', 'Q', 'X', 'K',\n",
       "       'H', 'I', 'A', 'J', 'S', 'Y', 'O', 'R', 'P', 'U', 'W', 'N'],\n",
       "      dtype='object')"
      ]
     },
     "execution_count": 87,
     "metadata": {},
     "output_type": "execute_result"
    }
   ],
   "source": [
    "df_progress.index"
   ]
  },
  {
   "cell_type": "code",
   "execution_count": 88,
   "metadata": {},
   "outputs": [
    {
     "data": {
      "text/plain": [
       "987.0"
      ]
     },
     "execution_count": 88,
     "metadata": {},
     "output_type": "execute_result"
    }
   ],
   "source": [
    "df_progress.end.max()"
   ]
  },
  {
   "cell_type": "code",
   "execution_count": 89,
   "metadata": {},
   "outputs": [
    {
     "data": {
      "text/html": [
       "<div>\n",
       "<style scoped>\n",
       "    .dataframe tbody tr th:only-of-type {\n",
       "        vertical-align: middle;\n",
       "    }\n",
       "\n",
       "    .dataframe tbody tr th {\n",
       "        vertical-align: top;\n",
       "    }\n",
       "\n",
       "    .dataframe thead th {\n",
       "        text-align: right;\n",
       "    }\n",
       "</style>\n",
       "<table border=\"1\" class=\"dataframe\">\n",
       "  <thead>\n",
       "    <tr style=\"text-align: right;\">\n",
       "      <th></th>\n",
       "      <th>start</th>\n",
       "      <th>end</th>\n",
       "    </tr>\n",
       "  </thead>\n",
       "  <tbody>\n",
       "    <tr>\n",
       "      <th>B</th>\n",
       "      <td>0.0</td>\n",
       "      <td>62.0</td>\n",
       "    </tr>\n",
       "    <tr>\n",
       "      <th>F</th>\n",
       "      <td>0.0</td>\n",
       "      <td>66.0</td>\n",
       "    </tr>\n",
       "    <tr>\n",
       "      <th>L</th>\n",
       "      <td>0.0</td>\n",
       "      <td>72.0</td>\n",
       "    </tr>\n",
       "    <tr>\n",
       "      <th>T</th>\n",
       "      <td>0.0</td>\n",
       "      <td>80.0</td>\n",
       "    </tr>\n",
       "    <tr>\n",
       "      <th>C</th>\n",
       "      <td>62.0</td>\n",
       "      <td>125.0</td>\n",
       "    </tr>\n",
       "    <tr>\n",
       "      <th>D</th>\n",
       "      <td>72.0</td>\n",
       "      <td>136.0</td>\n",
       "    </tr>\n",
       "    <tr>\n",
       "      <th>M</th>\n",
       "      <td>72.0</td>\n",
       "      <td>145.0</td>\n",
       "    </tr>\n",
       "    <tr>\n",
       "      <th>Z</th>\n",
       "      <td>72.0</td>\n",
       "      <td>158.0</td>\n",
       "    </tr>\n",
       "    <tr>\n",
       "      <th>E</th>\n",
       "      <td>125.0</td>\n",
       "      <td>190.0</td>\n",
       "    </tr>\n",
       "    <tr>\n",
       "      <th>G</th>\n",
       "      <td>158.0</td>\n",
       "      <td>225.0</td>\n",
       "    </tr>\n",
       "    <tr>\n",
       "      <th>V</th>\n",
       "      <td>158.0</td>\n",
       "      <td>240.0</td>\n",
       "    </tr>\n",
       "    <tr>\n",
       "      <th>Q</th>\n",
       "      <td>190.0</td>\n",
       "      <td>267.0</td>\n",
       "    </tr>\n",
       "    <tr>\n",
       "      <th>X</th>\n",
       "      <td>190.0</td>\n",
       "      <td>274.0</td>\n",
       "    </tr>\n",
       "    <tr>\n",
       "      <th>K</th>\n",
       "      <td>225.0</td>\n",
       "      <td>296.0</td>\n",
       "    </tr>\n",
       "    <tr>\n",
       "      <th>H</th>\n",
       "      <td>274.0</td>\n",
       "      <td>342.0</td>\n",
       "    </tr>\n",
       "    <tr>\n",
       "      <th>I</th>\n",
       "      <td>296.0</td>\n",
       "      <td>365.0</td>\n",
       "    </tr>\n",
       "    <tr>\n",
       "      <th>A</th>\n",
       "      <td>365.0</td>\n",
       "      <td>426.0</td>\n",
       "    </tr>\n",
       "    <tr>\n",
       "      <th>J</th>\n",
       "      <td>365.0</td>\n",
       "      <td>435.0</td>\n",
       "    </tr>\n",
       "    <tr>\n",
       "      <th>S</th>\n",
       "      <td>426.0</td>\n",
       "      <td>505.0</td>\n",
       "    </tr>\n",
       "    <tr>\n",
       "      <th>Y</th>\n",
       "      <td>435.0</td>\n",
       "      <td>520.0</td>\n",
       "    </tr>\n",
       "    <tr>\n",
       "      <th>O</th>\n",
       "      <td>520.0</td>\n",
       "      <td>595.0</td>\n",
       "    </tr>\n",
       "    <tr>\n",
       "      <th>R</th>\n",
       "      <td>595.0</td>\n",
       "      <td>673.0</td>\n",
       "    </tr>\n",
       "    <tr>\n",
       "      <th>P</th>\n",
       "      <td>673.0</td>\n",
       "      <td>749.0</td>\n",
       "    </tr>\n",
       "    <tr>\n",
       "      <th>U</th>\n",
       "      <td>749.0</td>\n",
       "      <td>830.0</td>\n",
       "    </tr>\n",
       "    <tr>\n",
       "      <th>W</th>\n",
       "      <td>830.0</td>\n",
       "      <td>913.0</td>\n",
       "    </tr>\n",
       "    <tr>\n",
       "      <th>N</th>\n",
       "      <td>913.0</td>\n",
       "      <td>987.0</td>\n",
       "    </tr>\n",
       "  </tbody>\n",
       "</table>\n",
       "</div>"
      ],
      "text/plain": [
       "   start    end\n",
       "B    0.0   62.0\n",
       "F    0.0   66.0\n",
       "L    0.0   72.0\n",
       "T    0.0   80.0\n",
       "C   62.0  125.0\n",
       "D   72.0  136.0\n",
       "M   72.0  145.0\n",
       "Z   72.0  158.0\n",
       "E  125.0  190.0\n",
       "G  158.0  225.0\n",
       "V  158.0  240.0\n",
       "Q  190.0  267.0\n",
       "X  190.0  274.0\n",
       "K  225.0  296.0\n",
       "H  274.0  342.0\n",
       "I  296.0  365.0\n",
       "A  365.0  426.0\n",
       "J  365.0  435.0\n",
       "S  426.0  505.0\n",
       "Y  435.0  520.0\n",
       "O  520.0  595.0\n",
       "R  595.0  673.0\n",
       "P  673.0  749.0\n",
       "U  749.0  830.0\n",
       "W  830.0  913.0\n",
       "N  913.0  987.0"
      ]
     },
     "execution_count": 89,
     "metadata": {},
     "output_type": "execute_result"
    }
   ],
   "source": [
    "df_progress"
   ]
  },
  {
   "cell_type": "code",
   "execution_count": 90,
   "metadata": {},
   "outputs": [
    {
     "data": {
      "text/plain": [
       "'BFLTCDMZEGVQXKHIAJSYORPUW'"
      ]
     },
     "execution_count": 90,
     "metadata": {},
     "output_type": "execute_result"
    }
   ],
   "source": [
    "finished_steps"
   ]
  },
  {
   "cell_type": "code",
   "execution_count": null,
   "metadata": {},
   "outputs": [],
   "source": []
  }
 ],
 "metadata": {
  "kernelspec": {
   "display_name": "Python 3",
   "language": "python",
   "name": "python3"
  },
  "language_info": {
   "codemirror_mode": {
    "name": "ipython",
    "version": 3
   },
   "file_extension": ".py",
   "mimetype": "text/x-python",
   "name": "python",
   "nbconvert_exporter": "python",
   "pygments_lexer": "ipython3",
   "version": "3.7.0"
  }
 },
 "nbformat": 4,
 "nbformat_minor": 2
}
